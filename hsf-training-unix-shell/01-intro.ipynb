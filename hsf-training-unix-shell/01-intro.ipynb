{
 "cells": [
  {
   "cell_type": "code",
   "execution_count": 1,
   "metadata": {
    "tags": [
     "remove-cell"
    ],
    "vscode": {
     "languageId": "shellscript"
    }
   },
   "outputs": [],
   "source": [
    "# setup steps required for our website\n",
    "cd filesystem/Users/nelle"
   ]
  },
  {
   "cell_type": "markdown",
   "metadata": {},
   "source": [
    "# Introducing the Shell\n",
    "\n",
    "Objectives\n",
    "\n",
    "- Explain how the shell relates to the keyboard, the screen, the operating system, and users' programs.\n",
    "- Explain when and why command-line interfaces should be used instead of graphical interfaces.\n",
    "\n",
    "Questions\n",
    "\n",
    "- What is a command shell and why would I use one?\n",
    "\n",
    "## Background\n",
    "\n",
    "Humans and computers commonly interact in many different ways, such as through a keyboard and mouse,\n",
    "touch screen interfaces, or using speech recognition systems.\n",
    "The most widely used way to interact with personal computers is called a\n",
    "**graphical user interface** (GUI).\n",
    "With a GUI, we give instructions by clicking a mouse and using menu-driven interactions.\n",
    "\n",
    "While the visual aid of a GUI makes it intuitive to learn,\n",
    "this way of delivering instructions to a computer scales very poorly.\n",
    "Imagine the following task:\n",
    "for a literature search, you have to copy the third line of one thousand text files in one thousand\n",
    "different directories and paste it into a single file.\n",
    "Using a GUI, you would not only be clicking at your desk for several hours,\n",
    "but you could potentially also commit an error in the process of completing this repetitive task.\n",
    "This is where we take advantage of the Unix shell.\n",
    "The Unix shell is both a **command-line interface** (CLI) and a scripting language,\n",
    "allowing such repetitive tasks to be done automatically and fast.\n",
    "With the proper commands, the shell can repeat tasks with or without some modification\n",
    "as many times as we want.\n",
    "Using the shell, the task in the literature example can be accomplished in seconds.\n",
    "\n",
    "## The Shell\n",
    "\n",
    "The shell is a program where users can type commands.\n",
    "With the shell, it's possible to invoke complicated programs like climate modeling software\n",
    "or simple commands that create an empty directory with only one line of code.\n",
    "The most popular Unix shell is Bash (the Bourne Again SHell ---\n",
    "so-called because it's derived from a shell written by Stephen Bourne).\n",
    "Bash is the default shell on most modern implementations of Unix and in most packages that provide\n",
    "Unix-like tools for Windows.\n",
    "Note that 'Git Bash' is a piece of software that enables Windows users to use a Bash like interface\n",
    "when interacting with Git.\n",
    "\n",
    "Using the shell will take some effort and some time to learn.\n",
    "While a GUI presents you with choices to select, CLI choices are not automatically presented to you,\n",
    "so you must learn a few commands like new vocabulary in a language you're studying.\n",
    "However, unlike a spoken language, a small number of \"words\" (i.e. commands) gets you a long way,\n",
    "and we'll cover those essential few today.\n",
    "\n",
    "The grammar of a shell allows you to combine existing tools into powerful\n",
    "pipelines and handle large volumes of data automatically. Sequences of\n",
    "commands can be written into a *script*, improving the reproducibility of\n",
    "workflows.\n",
    "\n",
    "In addition, the command line is often the easiest way to interact with remote machines\n",
    "and supercomputers.\n",
    "Familiarity with the shell is near essential to run a variety of specialized tools and resources\n",
    "including high-performance computing systems.\n",
    "As clusters and cloud computing systems become more popular for scientific data crunching,\n",
    "being able to interact with the shell is becoming a necessary skill.\n",
    "We can build on the command-line skills covered here\n",
    "to tackle a wide range of scientific questions and computational challenges.\n",
    "\n",
    "Let's get started.\n",
    "\n",
    "When the shell is first opened, you are presented with a **prompt**,\n",
    "indicating that the shell is waiting for input.\n",
    "\n",
    "```bash\n",
    "$\n",
    "```\n",
    "\n",
    "The shell typically uses `$ ` as the prompt, but may use a different symbol.\n",
    "In the examples for this lesson, we won't show the prompt,\n",
    "but importantly, *do not type the prompt* when typing commands.\n",
    "Only type the command that follows the prompt.\n",
    "This rule applies both in these lessons and in lessons from other sources.\n",
    "Also note that after you type a command, you have to press the `Enter` key to execute it.\n",
    "\n",
    "The prompt is followed by a **text cursor**, a character that indicates the position where your\n",
    "typing will appear.\n",
    "The cursor is usually a flashing or solid block, but it can also be an underscore or a pipe.\n",
    "You may have seen it in a text editor program, for example.\n",
    "\n",
    "Note that your prompt might look a little different. In particular, most popular shell\n",
    "environments by default put your user name and the host name. Such\n",
    "a prompt might look like, e.g.:\n",
    "\n",
    "```bash\n",
    "nelle@localhost $\n",
    "```\n",
    "\n",
    "The prompt might even include more than this. Do not worry if your prompt is longer than shown here. This lesson does not depend on this additional information and it\n",
    "should also not get in your way. The only important item to focus on is the\n",
    "character itself and we will see later why.\n",
    "\n",
    "So let's try our first command, `ls`, which is short for listing.\n",
    "This command will list the contents of the current directory:"
   ]
  },
  {
   "cell_type": "code",
   "execution_count": 2,
   "metadata": {
    "vscode": {
     "languageId": "shellscript"
    }
   },
   "outputs": [
    {
     "name": "stdout",
     "output_type": "stream",
     "text": [
      "\u001b[0m\u001b[01;34mcreatures\u001b[0m  \u001b[01;34mmolecules\u001b[0m           notes.txt  solar.pdf\n",
      "\u001b[01;34mdata\u001b[0m       \u001b[01;34mnorth-pacific-gyre\u001b[0m  pizza.cfg  \u001b[01;34mwriting\u001b[0m\n"
     ]
    }
   ],
   "source": [
    "ls"
   ]
  },
  {
   "cell_type": "markdown",
   "metadata": {},
   "source": [
    "## Command not found\n",
    "\n",
    "If the shell can't find a program whose name is the command you typed, it\n",
    "will print an error message such as:\n",
    "\n",
    "```bash\n",
    "$ ks\n",
    "```\n",
    "\n",
    "```output\n",
    "ks: command not found\n",
    "```\n",
    "\n",
    "This might happen if the command was mis-typed or if the program corresponding to that command\n",
    "is not installed.\n"
   ]
  }
 ],
 "metadata": {
  "kernelspec": {
   "display_name": "Bash",
   "language": "bash",
   "name": "bash"
  },
  "language_info": {
   "codemirror_mode": "shell",
   "file_extension": ".sh",
   "mimetype": "text/x-sh",
   "name": "bash"
  },
  "widgets": {
   "application/vnd.jupyter.widget-state+json": {
    "state": {},
    "version_major": 2,
    "version_minor": 0
   }
  }
 },
 "nbformat": 4,
 "nbformat_minor": 4
}
