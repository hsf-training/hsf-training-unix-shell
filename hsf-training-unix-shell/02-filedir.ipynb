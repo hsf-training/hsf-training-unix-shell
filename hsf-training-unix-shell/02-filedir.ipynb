{
 "cells": [
  {
   "cell_type": "code",
   "execution_count": 1,
   "metadata": {
    "editable": true,
    "slideshow": {
     "slide_type": ""
    },
    "tags": [
     "remove-cell"
    ],
    "vscode": {
     "languageId": "shellscript"
    }
   },
   "outputs": [],
   "source": [
    "# setup steps required for our website\n",
    "cd filesystem/Users/nelle"
   ]
  },
  {
   "cell_type": "markdown",
   "metadata": {
    "editable": true,
    "slideshow": {
     "slide_type": ""
    },
    "tags": []
   },
   "source": [
    "# Navigating Files and Directories\n",
    "\n",
    "Objectives\n",
    "\n",
    "- Explain the similarities and differences between a file and a directory.\n",
    "- Translate an absolute path into a relative path and vice versa.\n",
    "- Construct absolute and relative paths that identify specific files and directories.\n",
    "- Use options and arguments to change the behaviour of a shell command.\n",
    "- Demonstrate the use of tab completion and explain its advantages.\n",
    "\n",
    "Questions\n",
    "\n",
    "- How can I move around on my computer?\n",
    "- How can I see what files and directories I have?\n",
    "- How can I specify the location of a file or directory on my computer?\n",
    "\n",
    "Instructor Note\n",
    "\n",
    "- Introducing and navigating the filesystem in the shell can be confusing. You may have both terminal and GUI file explorer open side by side so learners can see the content and file structure while they're using terminal to navigate the system.\n",
    "\n",
    "The part of the operating system responsible for managing files and directories\n",
    "is called the **file system**.\n",
    "It organizes our data into files,\n",
    "which hold information,\n",
    "and directories (also called 'folders'),\n",
    "which hold files or other directories.\n",
    "\n",
    "Several commands are frequently used to create, inspect, rename, and delete files and directories.\n",
    "To start exploring them, we'll go to our open shell window.\n",
    "\n",
    "First, let's find out where we are by running a command called `pwd`\n",
    "(which stands for 'print working directory'). Directories are like *places* — at any time\n",
    "while we are using the shell, we are in exactly one place called\n",
    "our **current working directory**. Commands mostly read and write files in the\n",
    "current working directory, i.e. 'here', so knowing where you are before running\n",
    "a command is important. `pwd` shows you where you are:\n",
    "\n",
    "```bash\n",
    "! pwd\n",
    "```\n",
    "\n",
    "```output\n",
    "/Users/nelle\n",
    "```\n",
    "\n",
    "Here,\n",
    "the computer's response is `/Users/nelle`,\n",
    "which is Nelle's **home directory**:\n",
    "\n",
    "## Home Directory Variation\n",
    "\n",
    "The home directory path will look different on different operating systems.\n",
    "On Linux, it may look like `/home/nelle`,\n",
    "and on Windows, it will be similar to `C:\\Documents and Settings\\nelle` or\n",
    "`C:\\Users\\nelle`.\n",
    "(Note that it may look slightly different for different versions of Windows.)\n",
    "In future examples, we've used Mac output as the default - Linux and Windows\n",
    "output may differ slightly but should be generally similar.\n",
    "\n",
    "We will also assume that your `pwd` command returns your user's home directory.\n",
    "If `pwd` returns something different, you may need to navigate there using `cd`\n",
    "or some commands in this lesson will not work as written.\n",
    "See [Exploring Other Directories](#exploring-other-directories) for more details\n",
    "on the `cd` command.\n",
    "\n",
    "To understand what a 'home directory' is,\n",
    "let's have a look at how the file system as a whole is organized.  For the\n",
    "sake of this example, we'll be\n",
    "illustrating the filesystem on our scientist Nelle's computer.  After this\n",
    "illustration, you'll be learning commands to explore your own filesystem,\n",
    "which will be constructed in a similar way, but not be exactly identical.\n",
    "\n",
    "On Nelle's computer, the filesystem looks like this:\n",
    "\n",
    "![](fig/filesystem.svg){alt='The file system is made up of a root directory that contains sub-directories titled bin, data, users, and tmp'}\n",
    "\n",
    "The filesystem looks like an upside down tree. \n",
    "The topmost directory  is the **root directory**\n",
    "that holds everything else.\n",
    "We refer to it using a slash character, `/`, on its own;\n",
    "this character is the leading slash in `/Users/nelle`.\n",
    "\n",
    "Inside that directory are several other directories:\n",
    "`bin` (which is where some built-in programs are stored),\n",
    "`data` (for miscellaneous data files),\n",
    "`Users` (where users' personal directories are located),\n",
    "`tmp` (for temporary files that don't need to be stored long-term),\n",
    "and so on.\n",
    "\n",
    "We know that our current working directory `/Users/nelle` is stored inside `/Users`\n",
    "because `/Users` is the first part of its name.\n",
    "Similarly,\n",
    "we know that `/Users` is stored inside the root directory `/`\n",
    "because its name begins with `/`.\n",
    "\n",
    "## Slashes\n",
    "\n",
    "Notice that there are two meanings for the `/` character.\n",
    "When it appears at the front of a file or directory name,\n",
    "it refers to the root directory. When it appears *inside* a path,\n",
    "it's just a separator.\n",
    "\n",
    "Underneath `/Users`,\n",
    "we find one directory for each user with an account on Nelle's machine,\n",
    "her colleagues *imhotep* and *larry*.\n",
    "\n",
    "![](fig/home-directories.svg){alt='Like other directories, home directories are sub-directories underneath \"/Users\" like \"/Users/imhotep\", \"/Users/larry\" or\"/Users/nelle\"'}\n",
    "\n",
    "The user *imhotep*'s files are stored in `/Users/imhotep`,\n",
    "user *larry*'s in `/Users/larry`,\n",
    "and Nelle's in `/Users/nelle`. Nelle is the user in our\n",
    "examples here; therefore, we get `/Users/nelle` as our home directory.\n",
    "Typically, when you open a new command prompt, you will be in\n",
    "your home directory to start.\n",
    "\n",
    "Now let's learn the command that will let us see the contents of our\n",
    "own filesystem.  We can see what's in our home directory by running `ls`:\n",
    "\n"
   ]
  },
  {
   "cell_type": "code",
   "execution_count": 2,
   "metadata": {
    "vscode": {
     "languageId": "shellscript"
    }
   },
   "outputs": [
    {
     "name": "stdout",
     "output_type": "stream",
     "text": [
      "\u001b[0m\u001b[01;34mcreatures\u001b[0m  \u001b[01;34mmolecules\u001b[0m           notes.txt  solar.pdf\n",
      "\u001b[01;34mdata\u001b[0m       \u001b[01;34mnorth-pacific-gyre\u001b[0m  pizza.cfg  \u001b[01;34mwriting\u001b[0m\n"
     ]
    }
   ],
   "source": [
    "ls"
   ]
  },
  {
   "cell_type": "markdown",
   "metadata": {},
   "source": [
    "(Again, your results may be slightly different depending on your operating\n",
    "system and how you have customized your filesystem.)\n",
    "\n",
    "`ls` prints the names of the files and directories in the current directory.\n",
    "We can make its output more comprehensible by using the `-F` **option**\n",
    "which tells `ls` to classify the output\n",
    "by adding a marker to file and directory names to indicate what they are:\n",
    "\n",
    "- a trailing `/` indicates that this is a directory\n",
    "- `@` indicates a link\n",
    "- `*` indicates an executable\n",
    "\n",
    "Depending on your shell's default settings,\n",
    "the shell might also use colors to indicate whether each entry is a file or\n",
    "directory.\n",
    "\n",
    "Here,\n",
    "we can see that the home directory contains only **sub-directories**.\n",
    "Any names in the output that don't have a classification symbol\n",
    "are **files** in the current working directory."
   ]
  },
  {
   "cell_type": "code",
   "execution_count": 3,
   "metadata": {
    "vscode": {
     "languageId": "shellscript"
    }
   },
   "outputs": [
    {
     "name": "stdout",
     "output_type": "stream",
     "text": [
      "\u001b[0m\u001b[01;34mcreatures\u001b[0m/  \u001b[01;34mmolecules\u001b[0m/           notes.txt  solar.pdf\n",
      "\u001b[01;34mdata\u001b[0m/       \u001b[01;34mnorth-pacific-gyre\u001b[0m/  pizza.cfg  \u001b[01;34mwriting\u001b[0m/\n"
     ]
    }
   ],
   "source": [
    "ls -F"
   ]
  },
  {
   "cell_type": "markdown",
   "metadata": {},
   "source": [
    "## Clearing your terminal\n",
    "\n",
    "If your screen gets too cluttered, you can clear your terminal using the\n",
    "`clear` command. You can still access previous commands using <kbd>↑</kbd>\n",
    "and <kbd>↓</kbd> to move line-by-line, or by scrolling in your terminal.\n",
    "\n",
    "### Getting help\n",
    "\n",
    "`ls` has lots of other **options**. There are two common ways to find out how\n",
    "to use a command and what options it accepts ---\n",
    "**depending on your environment, you might find that only one of these ways works:**\n",
    "\n",
    "1. We can pass a `--help` option to any command (available on Linux and Git Bash), for example:\n",
    "  \n",
    "  ```bash\n",
    "  $ ls --help\n",
    "  ```\n",
    "\n",
    "2. We can read its manual with `man` (available on Linux and macOS):\n",
    "  \n",
    "  ```bash\n",
    "  $ man ls\n",
    "  ```\n",
    "\n",
    "We'll describe both ways next.\n",
    "\n",
    "## Help for built-in commands\n",
    "\n",
    "Some commands are built in to the Bash shell, rather than existing as separate\n",
    "programs on the filesystem. One example is the `cd` (change directory) command.\n",
    "If you get a message like `No manual entry for cd`, try `help cd` instead. The\n",
    "`help` command is how you get usage information for\n",
    "[Bash built-ins](https://www.gnu.org/software/bash/manual/html_node/Bash-Builtins.html).\n",
    "\n",
    "#### The `--help` option\n",
    "\n",
    "Most bash commands and programs that people have written to be\n",
    "run from within bash, support a `--help` option that displays more\n",
    "information on how to use the command or program.\n"
   ]
  },
  {
   "cell_type": "code",
   "execution_count": 4,
   "metadata": {
    "tags": [
     "hide-output"
    ],
    "vscode": {
     "languageId": "shellscript"
    }
   },
   "outputs": [
    {
     "name": "stdout",
     "output_type": "stream",
     "text": [
      "Usage: ls [OPTION]... [FILE]...\n",
      "List information about the FILEs (the current directory by default).\n",
      "Sort entries alphabetically if none of -cftuvSUX nor --sort is specified.\n",
      "\n",
      "Mandatory arguments to long options are mandatory for short options too.\n",
      "  -a, --all                  do not ignore entries starting with .\n",
      "  -A, --almost-all           do not list implied . and ..\n",
      "      --author               with -l, print the author of each file\n",
      "  -b, --escape               print C-style escapes for nongraphic characters\n",
      "      --block-size=SIZE      with -l, scale sizes by SIZE when printing them;\n",
      "                             e.g., '--block-size=M'; see SIZE format below\n",
      "\n",
      "  -B, --ignore-backups       do not list implied entries ending with ~\n",
      "  -c                         with -lt: sort by, and show, ctime (time of last\n",
      "                             change of file status information);\n",
      "                             with -l: show ctime and sort by name;\n",
      "                             otherwise: sort by ctime, newest first\n",
      "\n",
      "  -C                         list entries by columns\n",
      "      --color[=WHEN]         color the output WHEN; more info below\n",
      "  -d, --directory            list directories themselves, not their contents\n",
      "  -D, --dired                generate output designed for Emacs' dired mode\n",
      "  -f                         do not sort, enable -aU, disable -ls --color\n",
      "  -F, --classify[=WHEN]      append indicator (one of */=>@|) to entries WHEN\n",
      "      --file-type            likewise, except do not append '*'\n",
      "      --format=WORD          across -x, commas -m, horizontal -x, long -l,\n",
      "                             single-column -1, verbose -l, vertical -C\n",
      "\n",
      "      --full-time            like -l --time-style=full-iso\n",
      "  -g                         like -l, but do not list owner\n",
      "      --group-directories-first\n",
      "                             group directories before files;\n",
      "                             can be augmented with a --sort option, but any\n",
      "                             use of --sort=none (-U) disables grouping\n",
      "\n",
      "  -G, --no-group             in a long listing, don't print group names\n",
      "  -h, --human-readable       with -l and -s, print sizes like 1K 234M 2G etc.\n",
      "      --si                   likewise, but use powers of 1000 not 1024\n",
      "  -H, --dereference-command-line\n",
      "                             follow symbolic links listed on the command line\n",
      "      --dereference-command-line-symlink-to-dir\n",
      "                             follow each command line symbolic link\n",
      "                             that points to a directory\n",
      "\n",
      "      --hide=PATTERN         do not list implied entries matching shell PATTERN\n",
      "                             (overridden by -a or -A)\n",
      "\n",
      "      --hyperlink[=WHEN]     hyperlink file names WHEN\n",
      "      --indicator-style=WORD\n",
      "                             append indicator with style WORD to entry names:\n",
      "                             none (default), slash (-p),\n",
      "                             file-type (--file-type), classify (-F)\n",
      "\n",
      "  -i, --inode                print the index number of each file\n",
      "  -I, --ignore=PATTERN       do not list implied entries matching shell PATTERN\n",
      "  -k, --kibibytes            default to 1024-byte blocks for file system usage;\n",
      "                             used only with -s and per directory totals\n",
      "\n",
      "  -l                         use a long listing format\n",
      "  -L, --dereference          when showing file information for a symbolic\n",
      "                             link, show information for the file the link\n",
      "                             references rather than for the link itself\n",
      "\n",
      "  -m                         fill width with a comma separated list of entries\n",
      "  -n, --numeric-uid-gid      like -l, but list numeric user and group IDs\n",
      "  -N, --literal              print entry names without quoting\n",
      "  -o                         like -l, but do not list group information\n",
      "  -p, --indicator-style=slash\n",
      "                             append / indicator to directories\n",
      "  -q, --hide-control-chars   print ? instead of nongraphic characters\n",
      "      --show-control-chars   show nongraphic characters as-is (the default,\n",
      "                             unless program is 'ls' and output is a terminal)\n",
      "\n",
      "  -Q, --quote-name           enclose entry names in double quotes\n",
      "      --quoting-style=WORD   use quoting style WORD for entry names:\n",
      "                             literal, locale, shell, shell-always,\n",
      "                             shell-escape, shell-escape-always, c, escape\n",
      "                             (overrides QUOTING_STYLE environment variable)\n",
      "\n",
      "  -r, --reverse              reverse order while sorting\n",
      "  -R, --recursive            list subdirectories recursively\n",
      "  -s, --size                 print the allocated size of each file, in blocks\n",
      "  -S                         sort by file size, largest first\n",
      "      --sort=WORD            sort by WORD instead of name: none (-U), size (-S),\n",
      "                             time (-t), version (-v), extension (-X), width\n",
      "\n",
      "      --time=WORD            select which timestamp used to display or sort;\n",
      "                               access time (-u): atime, access, use;\n",
      "                               metadata change time (-c): ctime, status;\n",
      "                               modified time (default): mtime, modification;\n",
      "                               birth time: birth, creation;\n",
      "                             with -l, WORD determines which time to show;\n",
      "                             with --sort=time, sort by WORD (newest first)\n",
      "\n",
      "      --time-style=TIME_STYLE\n",
      "                             time/date format with -l; see TIME_STYLE below\n",
      "  -t                         sort by time, newest first; see --time\n",
      "  -T, --tabsize=COLS         assume tab stops at each COLS instead of 8\n",
      "  -u                         with -lt: sort by, and show, access time;\n",
      "                             with -l: show access time and sort by name;\n",
      "                             otherwise: sort by access time, newest first\n",
      "\n",
      "  -U                         do not sort; list entries in directory order\n",
      "  -v                         natural sort of (version) numbers within text\n",
      "  -w, --width=COLS           set output width to COLS.  0 means no limit\n",
      "  -x                         list entries by lines instead of by columns\n",
      "  -X                         sort alphabetically by entry extension\n",
      "  -Z, --context              print any security context of each file\n",
      "      --zero                 end each output line with NUL, not newline\n",
      "  -1                         list one file per line\n",
      "      --help        display this help and exit\n",
      "      --version     output version information and exit\n",
      "\n",
      "The SIZE argument is an integer and optional unit (example: 10K is 10*1024).\n",
      "Units are K,M,G,T,P,E,Z,Y,R,Q (powers of 1024) or KB,MB,... (powers of 1000).\n",
      "Binary prefixes can be used, too: KiB=K, MiB=M, and so on.\n",
      "\n",
      "The TIME_STYLE argument can be full-iso, long-iso, iso, locale, or +FORMAT.\n",
      "FORMAT is interpreted like in date(1).  If FORMAT is FORMAT1<newline>FORMAT2,\n",
      "then FORMAT1 applies to non-recent files and FORMAT2 to recent files.\n",
      "TIME_STYLE prefixed with 'posix-' takes effect only outside the POSIX locale.\n",
      "Also the TIME_STYLE environment variable sets the default style to use.\n",
      "\n",
      "The WHEN argument defaults to 'always' and can also be 'auto' or 'never'.\n",
      "\n",
      "Using color to distinguish file types is disabled both by default and\n",
      "with --color=never.  With --color=auto, ls emits color codes only when\n",
      "standard output is connected to a terminal.  The LS_COLORS environment\n",
      "variable can change the settings.  Use the dircolors(1) command to set it.\n",
      "\n",
      "Exit status:\n",
      " 0  if OK,\n",
      " 1  if minor problems (e.g., cannot access subdirectory),\n",
      " 2  if serious trouble (e.g., cannot access command-line argument).\n",
      "\n",
      "GNU coreutils online help: <https://www.gnu.org/software/coreutils/>\n",
      "Full documentation <https://www.gnu.org/software/coreutils/ls>\n",
      "or available locally via: info '(coreutils) ls invocation'\n"
     ]
    }
   ],
   "source": [
    "ls --help"
   ]
  },
  {
   "cell_type": "markdown",
   "metadata": {},
   "source": [
    "### When to use short or long options\n",
    "When options exist as both short and long options:\n",
    "\n",
    "- Use the short option when typing commands directly into the\n",
    "   shell to minimize keystrokes and get your task done faster.\n",
    "- Use the long option in scripts to provide clarity.\n",
    "  It will be read many times and typed once.\n",
    "\n",
    "## Unsupported command-line options\n",
    "\n",
    "If you try to use an option that is not supported, `ls` and other commands\n",
    "will usually print an error message similar to:\n",
    "\n",
    "\n",
    "```bash\n",
    "$ ls -j\n",
    "```\n",
    "\n",
    "```error\n",
    "ls: invalid option -- 'j'\n",
    "Try 'ls --help' for more information.\n",
    "```\n"
   ]
  },
  {
   "cell_type": "markdown",
   "metadata": {},
   "source": [
    "#### The `man` command\n",
    "\n",
    "The other way to learn about `ls` is to type\n",
    "\n",
    "```bash\n",
    "$ man ls\n",
    "```\n",
    "\n",
    "This command will turn your terminal into a page with a description\n",
    "of the `ls` command and its options.\n",
    "\n",
    "To navigate through the `man` pages,\n",
    "you may use <kbd>↑</kbd> and <kbd>↓</kbd> to move line-by-line,\n",
    "or try <kbd>b</kbd> and <kbd>Spacebar</kbd> to skip up and down by a full page.\n",
    "To search for a character or word in the `man` pages,\n",
    "use <kbd>/</kbd> followed by the character or word you are searching for.\n",
    "Sometimes a search will result in multiple hits.\n",
    "If so, you can move between hits using <kbd>N</kbd> (for moving forward) and\n",
    "<kbd>Shift</kbd>\\+<kbd>N</kbd> (for moving backward).\n",
    "\n",
    "To **quit** the `man` pages, press <kbd>q</kbd>."
   ]
  },
  {
   "cell_type": "code",
   "execution_count": 5,
   "metadata": {
    "tags": [
     "hide-output"
    ],
    "vscode": {
     "languageId": "shellscript"
    }
   },
   "outputs": [
    {
     "name": "stdout",
     "output_type": "stream",
     "text": [
      "\u001b[4mLS\u001b[24m(1)                            User Commands                            \u001b[4mLS\u001b[24m(1)\n",
      "\n",
      "\u001b[1mNAME\u001b[0m\n",
      "       ls - list directory contents\n",
      "\n",
      "\u001b[1mSYNOPSIS\u001b[0m\n",
      "       \u001b[1mls \u001b[22m[\u001b[4mOPTION\u001b[24m]... [\u001b[4mFILE\u001b[24m]...\n",
      "\n",
      "\u001b[1mDESCRIPTION\u001b[0m\n",
      "       List  information  about  the  FILEs (the current directory by default).\n",
      "       Sort entries alphabetically if none of \u001b[1m-cftuvSUX \u001b[22mnor  \u001b[1m--sort  \u001b[22mis  speci‐\n",
      "       fied.\n",
      "\n",
      "       Mandatory arguments to long options are mandatory for short options too.\n",
      "\n",
      "       \u001b[1m-a\u001b[22m, \u001b[1m--all\u001b[0m\n",
      "              do not ignore entries starting with .\n",
      "\n",
      "       \u001b[1m-A\u001b[22m, \u001b[1m--almost-all\u001b[0m\n",
      "              do not list implied . and ..\n",
      "\n",
      "       \u001b[1m--author\u001b[0m\n",
      "              with \u001b[1m-l\u001b[22m, print the author of each file\n",
      "\n",
      "       \u001b[1m-b\u001b[22m, \u001b[1m--escape\u001b[0m\n",
      "              print C-style escapes for nongraphic characters\n",
      "\n",
      "       \u001b[1m--block-size\u001b[22m=\u001b[4mSIZE\u001b[0m\n",
      "              with   \u001b[1m-l\u001b[22m,   scale  sizes  by  SIZE  when  printing  them;  e.g.,\n",
      "              '--block-size=M'; see SIZE format below\n",
      "\n",
      "       \u001b[1m-B\u001b[22m, \u001b[1m--ignore-backups\u001b[0m\n",
      "              do not list implied entries ending with ~\n",
      "\n",
      "       \u001b[1m-c     \u001b[22mwith \u001b[1m-lt\u001b[22m: sort by, and show, ctime (time of last change  of  file\n",
      "              status information); with \u001b[1m-l\u001b[22m: show ctime and sort by name; other‐\n",
      "              wise: sort by ctime, newest first\n",
      "\n",
      "       \u001b[1m-C     \u001b[22mlist entries by columns\n",
      "\n",
      "       \u001b[1m--color\u001b[22m[=\u001b[4mWHEN\u001b[24m]\n",
      "              color the output WHEN; more info below\n",
      "\n",
      "       \u001b[1m-d\u001b[22m, \u001b[1m--directory\u001b[0m\n",
      "              list directories themselves, not their contents\n",
      "\n",
      "       \u001b[1m-D\u001b[22m, \u001b[1m--dired\u001b[0m\n",
      "              generate output designed for Emacs' dired mode\n",
      "\n",
      "       \u001b[1m-f     \u001b[22mdo not sort, enable \u001b[1m-aU\u001b[22m, disable \u001b[1m-ls --color\u001b[0m\n",
      "\n",
      "       \u001b[1m-F\u001b[22m, \u001b[1m--classify\u001b[22m[=\u001b[4mWHEN\u001b[24m]\n",
      "              append indicator (one of */=>@|) to entries WHEN\n",
      "\n",
      "       \u001b[1m--file-type\u001b[0m\n",
      "              likewise, except do not append '*'\n",
      "\n",
      "       \u001b[1m--format\u001b[22m=\u001b[4mWORD\u001b[0m\n",
      "              across  \u001b[1m-x\u001b[22m,  commas \u001b[1m-m\u001b[22m, horizontal \u001b[1m-x\u001b[22m, long \u001b[1m-l\u001b[22m, single-column \u001b[1m-1\u001b[22m,\n",
      "              verbose \u001b[1m-l\u001b[22m, vertical \u001b[1m-C\u001b[0m\n",
      "\n",
      "       \u001b[1m--full-time\u001b[0m\n",
      "              like \u001b[1m-l --time-style\u001b[22m=\u001b[4mfull-iso\u001b[0m\n",
      "\n",
      "       \u001b[1m-g     \u001b[22mlike \u001b[1m-l\u001b[22m, but do not list owner\n",
      "\n",
      "       \u001b[1m--group-directories-first\u001b[0m\n",
      "              group directories before files; can be augmented  with  a  \u001b[1m--sort\u001b[0m\n",
      "              option, but any use of \u001b[1m--sort\u001b[22m=\u001b[4mnone\u001b[24m (\u001b[1m-U\u001b[22m) disables grouping\n",
      "\n",
      "       \u001b[1m-G\u001b[22m, \u001b[1m--no-group\u001b[0m\n",
      "              in a long listing, don't print group names\n",
      "\n",
      "       \u001b[1m-h\u001b[22m, \u001b[1m--human-readable\u001b[0m\n",
      "              with \u001b[1m-l \u001b[22mand \u001b[1m-s\u001b[22m, print sizes like 1K 234M 2G etc.\n",
      "\n",
      "       \u001b[1m--si   \u001b[22mlikewise, but use powers of 1000 not 1024\n",
      "\n",
      "       \u001b[1m-H\u001b[22m, \u001b[1m--dereference-command-line\u001b[0m\n",
      "              follow symbolic links listed on the command line\n",
      "\n",
      "       \u001b[1m--dereference-command-line-symlink-to-dir\u001b[0m\n",
      "              follow each command line symbolic link that points to a directory\n",
      "\n",
      "       \u001b[1m--hide\u001b[22m=\u001b[4mPATTERN\u001b[0m\n",
      "              do not list implied entries matching shell PATTERN (overridden by\n",
      "              \u001b[1m-a \u001b[22mor \u001b[1m-A\u001b[22m)\n",
      "\n",
      "       \u001b[1m--hyperlink\u001b[22m[=\u001b[4mWHEN\u001b[24m]\n",
      "              hyperlink file names WHEN\n",
      "\n",
      "       \u001b[1m--indicator-style\u001b[22m=\u001b[4mWORD\u001b[0m\n",
      "              append  indicator with style WORD to entry names: none (default),\n",
      "              slash (\u001b[1m-p\u001b[22m), file-type (\u001b[1m--file-type\u001b[22m), classify (\u001b[1m-F\u001b[22m)\n",
      "\n",
      "       \u001b[1m-i\u001b[22m, \u001b[1m--inode\u001b[0m\n",
      "              print the index number of each file\n",
      "\n",
      "       \u001b[1m-I\u001b[22m, \u001b[1m--ignore\u001b[22m=\u001b[4mPATTERN\u001b[0m\n",
      "              do not list implied entries matching shell PATTERN\n",
      "\n",
      "       \u001b[1m-k\u001b[22m, \u001b[1m--kibibytes\u001b[0m\n",
      "              default to 1024-byte blocks for file system usage; used only with\n",
      "              \u001b[1m-s \u001b[22mand per directory totals\n",
      "\n",
      "       \u001b[1m-l     \u001b[22muse a long listing format\n",
      "\n",
      "       \u001b[1m-L\u001b[22m, \u001b[1m--dereference\u001b[0m\n",
      "              when showing file information for a symbolic link, show  informa‐\n",
      "              tion  for  the  file the link references rather than for the link\n",
      "              itself\n",
      "\n",
      "       \u001b[1m-m     \u001b[22mfill width with a comma separated list of entries\n",
      "\n",
      "       \u001b[1m-n\u001b[22m, \u001b[1m--numeric-uid-gid\u001b[0m\n",
      "              like \u001b[1m-l\u001b[22m, but list numeric user and group IDs\n",
      "\n",
      "       \u001b[1m-N\u001b[22m, \u001b[1m--literal\u001b[0m\n",
      "              print entry names without quoting\n",
      "\n",
      "       \u001b[1m-o     \u001b[22mlike \u001b[1m-l\u001b[22m, but do not list group information\n",
      "\n",
      "       \u001b[1m-p\u001b[22m, \u001b[1m--indicator-style\u001b[22m=\u001b[4mslash\u001b[0m\n",
      "              append / indicator to directories\n",
      "\n",
      "       \u001b[1m-q\u001b[22m, \u001b[1m--hide-control-chars\u001b[0m\n",
      "              print ? instead of nongraphic characters\n",
      "\n",
      "       \u001b[1m--show-control-chars\u001b[0m\n",
      "              show nongraphic characters as-is (the default, unless program  is\n",
      "              'ls' and output is a terminal)\n",
      "\n",
      "       \u001b[1m-Q\u001b[22m, \u001b[1m--quote-name\u001b[0m\n",
      "              enclose entry names in double quotes\n",
      "\n",
      "       \u001b[1m--quoting-style\u001b[22m=\u001b[4mWORD\u001b[0m\n",
      "              use  quoting  style WORD for entry names: literal, locale, shell,\n",
      "              shell-always, shell-escape, shell-escape-always, c, escape (over‐\n",
      "              rides QUOTING_STYLE environment variable)\n",
      "\n",
      "       \u001b[1m-r\u001b[22m, \u001b[1m--reverse\u001b[0m\n",
      "              reverse order while sorting\n",
      "\n",
      "       \u001b[1m-R\u001b[22m, \u001b[1m--recursive\u001b[0m\n",
      "              list subdirectories recursively\n",
      "\n",
      "       \u001b[1m-s\u001b[22m, \u001b[1m--size\u001b[0m\n",
      "              print the allocated size of each file, in blocks\n",
      "\n",
      "       \u001b[1m-S     \u001b[22msort by file size, largest first\n",
      "\n",
      "       \u001b[1m--sort\u001b[22m=\u001b[4mWORD\u001b[0m\n",
      "              sort by WORD instead of name: none (\u001b[1m-U\u001b[22m), size  (\u001b[1m-S\u001b[22m),  time  (\u001b[1m-t\u001b[22m),\n",
      "              version (\u001b[1m-v\u001b[22m), extension (\u001b[1m-X\u001b[22m), width\n",
      "\n",
      "       \u001b[1m--time\u001b[22m=\u001b[4mWORD\u001b[0m\n",
      "              select which timestamp used to display or sort; access time (\u001b[1m-u\u001b[22m):\n",
      "              atime,  access,  use;  metadata  change time (\u001b[1m-c\u001b[22m): ctime, status;\n",
      "              modified time (default): mtime, modification; birth time:  birth,\n",
      "              creation;\n",
      "\n",
      "              with  \u001b[1m-l\u001b[22m,  WORD  determines which time to show; with \u001b[1m--sort\u001b[22m=\u001b[4mtime\u001b[24m,\n",
      "              sort by WORD (newest first)\n",
      "\n",
      "       \u001b[1m--time-style\u001b[22m=\u001b[4mTIME_STYLE\u001b[0m\n",
      "              time/date format with \u001b[1m-l\u001b[22m; see TIME_STYLE below\n",
      "\n",
      "       \u001b[1m-t     \u001b[22msort by time, newest first; see \u001b[1m--time\u001b[0m\n",
      "\n",
      "       \u001b[1m-T\u001b[22m, \u001b[1m--tabsize\u001b[22m=\u001b[4mCOLS\u001b[0m\n",
      "              assume tab stops at each COLS instead of 8\n",
      "\n",
      "       \u001b[1m-u     \u001b[22mwith \u001b[1m-lt\u001b[22m: sort by, and show, access time; with  \u001b[1m-l\u001b[22m:  show  access\n",
      "              time  and  sort  by  name; otherwise: sort by access time, newest\n",
      "              first\n",
      "\n",
      "       \u001b[1m-U     \u001b[22mdo not sort; list entries in directory order\n",
      "\n",
      "       \u001b[1m-v     \u001b[22mnatural sort of (version) numbers within text\n",
      "\n",
      "       \u001b[1m-w\u001b[22m, \u001b[1m--width\u001b[22m=\u001b[4mCOLS\u001b[0m\n",
      "              set output width to COLS.  0 means no limit\n",
      "\n",
      "       \u001b[1m-x     \u001b[22mlist entries by lines instead of by columns\n",
      "\n",
      "       \u001b[1m-X     \u001b[22msort alphabetically by entry extension\n",
      "\n",
      "       \u001b[1m-Z\u001b[22m, \u001b[1m--context\u001b[0m\n",
      "              print any security context of each file\n",
      "\n",
      "       \u001b[1m--zero \u001b[22mend each output line with NUL, not newline\n",
      "\n",
      "       \u001b[1m-1     \u001b[22mlist one file per line\n",
      "\n",
      "       \u001b[1m--help \u001b[22mdisplay this help and exit\n",
      "\n",
      "       \u001b[1m--version\u001b[0m\n",
      "              output version information and exit\n",
      "\n",
      "       The SIZE argument is an integer  and  optional  unit  (example:  10K  is\n",
      "       10*1024).   Units  are K,M,G,T,P,E,Z,Y,R,Q (powers of 1024) or KB,MB,...\n",
      "       (powers of 1000).  Binary prefixes can be used, too: KiB=K,  MiB=M,  and\n",
      "       so on.\n",
      "\n",
      "       The TIME_STYLE argument can be full-iso, long-iso, iso, locale, or +FOR‐\n",
      "       MAT.   FORMAT is interpreted like in \u001b[1mdate\u001b[22m(1).  If FORMAT is FORMAT1<new‐\n",
      "       line>FORMAT2, then FORMAT1 applies to non-recent files  and  FORMAT2  to\n",
      "       recent  files.  TIME_STYLE prefixed with 'posix-' takes effect only out‐\n",
      "       side the POSIX locale.  Also the TIME_STYLE  environment  variable  sets\n",
      "       the default style to use.\n",
      "\n",
      "       The  WHEN  argument  defaults  to  'always'  and  can  also be 'auto' or\n",
      "       'never'.\n",
      "\n",
      "       Using color to distinguish file types is disabled both  by  default  and\n",
      "       with  \u001b[1m--color\u001b[22m=\u001b[4mnever\u001b[24m.   With \u001b[1m--color\u001b[22m=\u001b[4mauto\u001b[24m, ls emits color codes only when\n",
      "       standard output is connected to a terminal.  The  LS_COLORS  environment\n",
      "       variable  can  change the settings.  Use the \u001b[1mdircolors\u001b[22m(1) command to set\n",
      "       it.\n",
      "\n",
      "   \u001b[1mExit status:\u001b[0m\n",
      "       0      if OK,\n",
      "\n",
      "       1      if minor problems (e.g., cannot access subdirectory),\n",
      "\n",
      "       2      if serious trouble (e.g., cannot access command-line argument).\n",
      "\n",
      "\u001b[1mAUTHOR\u001b[0m\n",
      "       Written by Richard M. Stallman and David MacKenzie.\n",
      "\n",
      "\u001b[1mREPORTING BUGS\u001b[0m\n",
      "       GNU coreutils online help: <https://www.gnu.org/software/coreutils/>\n",
      "       Report any translation bugs to <https://translationproject.org/team/>\n",
      "\n",
      "\u001b[1mCOPYRIGHT\u001b[0m\n",
      "       Copyright © 2024 Free Software Foundation, Inc.  License GPLv3+: GNU GPL\n",
      "       version 3 or later <https://gnu.org/licenses/gpl.html>.\n",
      "       This is free software: you are  free  to  change  and  redistribute  it.\n",
      "       There is NO WARRANTY, to the extent permitted by law.\n",
      "\n",
      "\u001b[1mSEE ALSO\u001b[0m\n",
      "       \u001b[1mdircolors\u001b[22m(1)\n",
      "\n",
      "       Full documentation <https://www.gnu.org/software/coreutils/ls>\n",
      "       or available locally via: info '(coreutils) ls invocation'\n",
      "\n",
      "GNU coreutils 9.5                  April 2025                             \u001b[4mLS\u001b[24m(1)\n"
     ]
    }
   ],
   "source": [
    "man ls"
   ]
  },
  {
   "cell_type": "markdown",
   "metadata": {
    "jp-MarkdownHeadingCollapsed": true
   },
   "source": [
    "## Manual pages on the web\n",
    "\n",
    "Of course, there is a third way to access help for commands:\n",
    "searching the internet via your web browser.\n",
    "When using internet search, including the phrase `unix man page` in your search\n",
    "query will help to find relevant results.\n",
    "\n",
    "GNU provides links to its\n",
    "[manuals](https://www.gnu.org/manual/manual.html) including the\n",
    "[core GNU utilities](https://www.gnu.org/software/coreutils/manual/coreutils.html),\n",
    "which covers many commands introduced within this lesson.\n",
    "\n"
   ]
  },
  {
   "cell_type": "markdown",
   "metadata": {},
   "source": [
    "## Challenge: Exploring More `ls` Options\n",
    "\n",
    "You can also use two options at the same time. What does the command `ls` do when used\n",
    "with the `-l` option? What about if you use both the `-l` and the `-h` option?\n",
    "\n",
    "Some of its output is about properties that we do not cover in this lesson (such\n",
    "as file permissions and ownership), but the rest should be useful\n",
    "nevertheless."
   ]
  },
  {
   "cell_type": "markdown",
   "metadata": {
    "tags": [
     "hide-cell"
    ]
   },
   "source": [
    "```{toggle} ## Solution\n",
    "\n",
    "The `-l` option makes `ls` use a **l**ong listing format, showing not only\n",
    "the file/directory names but also additional information, such as the file size\n",
    "and the time of its last modification. If you use both the `-h` option and the `-l` option,\n",
    "this makes the file size '**h**uman readable', i.e. displaying something like `5.3K`\n",
    "instead of `5369`.\n",
    "```"
   ]
  },
  {
   "cell_type": "markdown",
   "metadata": {},
   "source": [
    "## Challenge: Listing in Reverse Chronological Order\n",
    "\n",
    "By default, `ls` lists the contents of a directory in alphabetical\n",
    "order by name. The command `ls -t` lists items by time of last\n",
    "change instead of alphabetically. The command `ls -r` lists the\n",
    "contents of a directory in reverse order.\n",
    "Which file is displayed last when you combine the `-t` and `-r` options?\n",
    "Hint: You may need to use the `-l` option to see the\n",
    "last changed dates."
   ]
  },
  {
   "cell_type": "markdown",
   "metadata": {
    "editable": true,
    "jp-MarkdownHeadingCollapsed": true,
    "slideshow": {
     "slide_type": ""
    },
    "tags": [
     "hide-cell"
    ]
   },
   "source": [
    "## Solution\n",
    "\n",
    "The most recently changed file is listed last when using `-rt`. This\n",
    "can be very useful for finding your most recent edits or checking to\n",
    "see if a new output file was written."
   ]
  },
  {
   "cell_type": "markdown",
   "metadata": {},
   "source": [
    "### Exploring Other Directories\n",
    "\n",
    "Not only can we use `ls` on the current working directory,\n",
    "but we can use it to list the contents of a different directory.\n",
    "Let's take a look at our `Desktop` directory by running `ls -F Desktop`,\n",
    "i.e.,\n",
    "the command `ls` with the `-F` **option** and the [**argument**][Arguments]  `Desktop`.\n",
    "The argument `Desktop` tells `ls` that\n",
    "we want a listing of something other than our current working directory:"
   ]
  },
  {
   "cell_type": "code",
   "execution_count": 8,
   "metadata": {},
   "outputs": [
    {
     "name": "stdout",
     "output_type": "stream",
     "text": [
      "\u001b[0m\u001b[01;34mshell-lesson-data\u001b[0m/\n"
     ]
    }
   ],
   "source": [
    "ls -F Desktop"
   ]
  },
  {
   "cell_type": "markdown",
   "metadata": {},
   "source": [
    "Note that if a directory named `Desktop` does not exist in your current working directory,\n",
    "this command will return an error. Typically, a `Desktop` directory exists in your\n",
    "home directory, which we assume is the current working directory of your bash shell.\n",
    "\n",
    "Your output should be a list of all the files and sub-directories in your\n",
    "Desktop directory, including the `shell-lesson-data` directory you downloaded at\n",
    "the [setup for this lesson](00-setup.md). (On most systems, the\n",
    "contents of the `Desktop` directory in the shell will show up as icons in a graphical\n",
    "user interface behind all the open windows. See if this is the case for you.)\n",
    "\n",
    "Organizing things hierarchically helps us keep track of our work. While it's\n",
    "possible to put hundreds of files in our home directory just as it's possible to\n",
    "pile hundreds of printed papers on our desk, it's much easier to find things when\n",
    "they've been organized into sensibly-named subdirectories.\n",
    "\n",
    "Now that we know the `shell-lesson-data` directory is located in our Desktop directory, we\n",
    "can do two things.\n",
    "\n",
    "First, using the same strategy as before, we can look at its contents by passing\n",
    "a directory name to `ls`:\n"
   ]
  },
  {
   "cell_type": "code",
   "execution_count": 9,
   "metadata": {},
   "outputs": [
    {
     "name": "stdout",
     "output_type": "stream",
     "text": [
      "\u001b[0m\u001b[01;34mexercise-data\u001b[0m/  \u001b[01;34mnorth-pacific-gyre\u001b[0m/\n"
     ]
    }
   ],
   "source": [
    "ls -F Desktop/shell-lesson-data"
   ]
  },
  {
   "cell_type": "markdown",
   "metadata": {
    "editable": true,
    "slideshow": {
     "slide_type": ""
    },
    "tags": []
   },
   "source": [
    "Second, we can actually change our location to a different directory, so\n",
    "we are no longer located in\n",
    "our home directory.\n",
    "\n",
    "The command to change locations is `cd` followed by a\n",
    "directory name to change our working directory.\n",
    "`cd` stands for 'change directory',\n",
    "which is a bit misleading.\n",
    "The command doesn't change the directory;\n",
    "it changes the shell's current working directory.\n",
    "In other words it changes the shell's settings for what directory we are in.\n",
    "The `cd` command is akin to double-clicking a folder in a graphical interface\n",
    "to get into that folder.\n",
    "\n",
    "Let's say we want to move into the `exercise-data` directory we saw above. We can\n",
    "use the following series of commands to get there:"
   ]
  },
  {
   "cell_type": "code",
   "execution_count": 10,
   "metadata": {
    "editable": true,
    "slideshow": {
     "slide_type": ""
    },
    "tags": []
   },
   "outputs": [],
   "source": [
    "cd Desktop\n",
    "cd shell-lesson-data\n",
    "cd exercise-data"
   ]
  },
  {
   "cell_type": "markdown",
   "metadata": {
    "editable": true,
    "slideshow": {
     "slide_type": ""
    },
    "tags": []
   },
   "source": [
    "These commands will move us from our home directory into our Desktop directory, then into\n",
    "the `shell-lesson-data` directory, then into the `exercise-data` directory.\n",
    "You will notice that `cd` doesn't print anything. This is normal.\n",
    "Many shell commands will not output anything to the screen when successfully executed.\n",
    "But if we run `pwd` after it, we can see that we are now\n",
    "in `/Users/nelle/Desktop/shell-lesson-data/exercise-data`.\n",
    "\n",
    "If we run `ls -F` without arguments now,\n",
    "it lists the contents of `/Users/nelle/Desktop/shell-lesson-data/exercise-data`,\n",
    "because that's where we now are:"
   ]
  },
  {
   "cell_type": "code",
   "execution_count": 11,
   "metadata": {
    "editable": true,
    "slideshow": {
     "slide_type": ""
    },
    "tags": []
   },
   "outputs": [
    {
     "name": "stdout",
     "output_type": "stream",
     "text": [
      "\u001b[0m\u001b[01;34malkanes\u001b[0m/  \u001b[01;34manimal-counts\u001b[0m/  \u001b[01;34mcreatures\u001b[0m/  numbers.txt  \u001b[01;34mwriting\u001b[0m/\n"
     ]
    }
   ],
   "source": [
    "ls -F"
   ]
  },
  {
   "cell_type": "markdown",
   "metadata": {
    "editable": true,
    "slideshow": {
     "slide_type": ""
    },
    "tags": []
   },
   "source": [
    "We now know how to go down the directory tree (i.e. how to go into a subdirectory),\n",
    "but how do we go up (i.e. how do we leave a directory and go into its parent directory)?\n",
    "We might try the following:\n",
    "\n",
    "```bash\n",
    "$ cd shell-lesson-data\n",
    "```\n",
    "\n",
    "```error\n",
    "-bash: cd: shell-lesson-data: No such file or directory\n",
    "```\n",
    "\n",
    "But we get an error! Why is this?\n",
    "\n",
    "With our methods so far,\n",
    "`cd` can only see sub-directories inside your current directory. There are\n",
    "different ways to see directories above your current location; we'll start\n",
    "with the simplest.\n",
    "\n",
    "There is a shortcut in the shell to move up one directory level. It works as follows:"
   ]
  },
  {
   "cell_type": "code",
   "execution_count": 12,
   "metadata": {
    "editable": true,
    "slideshow": {
     "slide_type": ""
    },
    "tags": []
   },
   "outputs": [],
   "source": [
    "cd .."
   ]
  },
  {
   "cell_type": "markdown",
   "metadata": {
    "editable": true,
    "slideshow": {
     "slide_type": ""
    },
    "tags": []
   },
   "source": [
    "`..` is a special directory name meaning\n",
    "\"the directory containing this one\",\n",
    "or more succinctly,\n",
    "the **parent** of the current directory.\n",
    "Sure enough,\n",
    "if we run `pwd` after running `cd ..`, we're back in `/Users/nelle/Desktop/shell-lesson-data`:\n",
    "\n",
    "```bash\n",
    "$ pwd\n",
    "```\n",
    "\n",
    "```output\n",
    "/Users/nelle/Desktop/shell-lesson-data\n",
    "```\n",
    "\n",
    "The special directory `..` doesn't usually show up when we run `ls`. If we want\n",
    "to display it, we can add the `-a` option to `ls -F`:"
   ]
  },
  {
   "cell_type": "code",
   "execution_count": 13,
   "metadata": {
    "editable": true,
    "slideshow": {
     "slide_type": ""
    },
    "tags": []
   },
   "outputs": [
    {
     "name": "stdout",
     "output_type": "stream",
     "text": [
      "\u001b[0m\u001b[01;34m.\u001b[0m/  \u001b[01;34m..\u001b[0m/  \u001b[01;34mexercise-data\u001b[0m/  \u001b[01;34mnorth-pacific-gyre\u001b[0m/\n"
     ]
    }
   ],
   "source": [
    "ls -F -a"
   ]
  },
  {
   "cell_type": "markdown",
   "metadata": {
    "editable": true,
    "slideshow": {
     "slide_type": ""
    },
    "tags": []
   },
   "source": [
    "`-a` stands for 'show all' (including hidden files);\n",
    "it forces `ls` to show us file and directory names that begin with `.`,\n",
    "such as `..` (which, if we're in `/Users/nelle`, refers to the `/Users` directory).\n",
    "As you can see,\n",
    "it also displays another special directory that's just called `.`,\n",
    "which means 'the current working directory'.\n",
    "It may seem redundant to have a name for it,\n",
    "but we'll see some uses for it soon.\n",
    "\n",
    "Note that in most command line tools, multiple options can be combined\n",
    "with a single `-` and no spaces between the options; `ls -F -a` is\n",
    "equivalent to `ls -Fa`."
   ]
  },
  {
   "cell_type": "markdown",
   "metadata": {
    "editable": true,
    "slideshow": {
     "slide_type": ""
    },
    "tags": []
   },
   "source": [
    "## Other Hidden Files\n",
    "\n",
    "In addition to the hidden directories `..` and `.`, you may also see a file\n",
    "called `.bash_profile`. This file usually contains shell configuration\n",
    "settings. You may also see other files and directories beginning\n",
    "with `.`. These are usually files and directories that are used to configure\n",
    "different programs on your computer. The prefix `.` is used to prevent these\n",
    "configuration files from cluttering the terminal when a standard `ls` command\n",
    "is used.\n",
    "\n",
    "These three commands are the basic commands for navigating the filesystem on your computer:\n",
    "`pwd`, `ls`, and `cd`. Let's explore some variations on those commands. What happens\n",
    "if you type `cd` on its own, without giving\n",
    "a directory?\n",
    "\n",
    "```bash\n",
    "$ cd\n",
    "```\n",
    "\n",
    "How can you check what happened? `pwd` gives us the answer!\n",
    "\n",
    "```bash\n",
    "$ pwd\n",
    "```\n",
    "\n",
    "```output\n",
    "/Users/nelle\n",
    "```\n",
    "\n",
    "It turns out that `cd` without an argument will return you to your home directory,\n",
    "which is great if you've got lost in your own filesystem.\n",
    "\n",
    "Let's try returning to the `exercise-data` directory from before. Last time, we used\n",
    "three commands, but we can actually string together the list of directories\n",
    "to move to `exercise-data` in one step:\n",
    "\n",
    "```bash\n",
    "$ cd Desktop/shell-lesson-data/exercise-data\n",
    "```\n",
    "\n",
    "Check that we've moved to the right place by running `pwd` and `ls -F`.\n",
    "\n",
    "If we want to move up one level from the data directory, we could use `cd ..`.  But\n",
    "there is another way to move to any directory, regardless of your\n",
    "current location.\n",
    "\n",
    "So far, when specifying directory names, or even a directory path (as above),\n",
    "we have been using **relative paths**.  When you use a relative path with a command\n",
    "like `ls` or `cd`, it tries to find that location from where we are,\n",
    "rather than from the root of the file system.\n",
    "\n",
    "However, it is possible to specify the **absolute path** to a directory by\n",
    "including its entire path from the root directory, which is indicated by a\n",
    "leading slash. The leading `/` tells the computer to follow the path from\n",
    "the root of the file system, so it always refers to exactly one directory,\n",
    "no matter where we are when we run the command.\n",
    "\n",
    "This allows us to move to our `shell-lesson-data` directory from anywhere on\n",
    "the filesystem (including from inside `exercise-data`). To find the absolute path\n",
    "we're looking for, we can use `pwd` and then extract the piece we need\n",
    "to move to `shell-lesson-data`.\n",
    "\n",
    "```bash\n",
    "$ pwd\n",
    "```\n",
    "\n",
    "```output\n",
    "/Users/nelle/Desktop/shell-lesson-data/exercise-data\n",
    "```\n",
    "\n",
    "```bash\n",
    "$ cd /Users/nelle/Desktop/shell-lesson-data\n",
    "```\n",
    "\n",
    "Run `pwd` and `ls -F` to ensure that we're in the directory we expect.\n",
    "\n",
    "## Two More Shortcuts\n",
    "\n",
    "The shell interprets a tilde (`~`) character at the start of a path to\n",
    "mean \"the current user's home directory\". For example, if Nelle's home\n",
    "directory is `/Users/nelle`, then `~/data` is equivalent to\n",
    "`/Users/nelle/data`. This only works if it is the first character in the\n",
    "path; `here/there/~/elsewhere` is *not* `here/there/Users/nelle/elsewhere`.\n",
    "\n",
    "Another shortcut is the `-` (dash) character. `cd` will translate `-` into\n",
    "*the previous directory I was in*, which is faster than having to remember,\n",
    "then type, the full path.  This is a *very* efficient way of moving\n",
    "*back and forth between two directories* -- i.e. if you execute `cd -` twice,\n",
    "you end up back in the starting directory.\n",
    "\n",
    "The difference between `cd ..` and `cd -` is\n",
    "that the former brings you *up*, while the latter brings you *back*.\n",
    "\n",
    "***\n",
    "\n",
    "Try it!\n",
    "First navigate to `~/Desktop/shell-lesson-data` (you should already be there).\n",
    "\n",
    "```bash\n",
    "$ cd ~/Desktop/shell-lesson-data\n",
    "```\n",
    "\n",
    "Then `cd` into the `exercise-data/creatures` directory\n",
    "\n",
    "```bash\n",
    "$ cd exercise-data/creatures\n",
    "```\n",
    "\n",
    "Now if you run\n",
    "\n",
    "```bash\n",
    "$ cd -\n",
    "```\n",
    "\n",
    "you'll see you're back in `~/Desktop/shell-lesson-data`.\n",
    "Run `cd -` again and you're back in `~/Desktop/shell-lesson-data/exercise-data/creatures`"
   ]
  },
  {
   "cell_type": "markdown",
   "metadata": {
    "editable": true,
    "slideshow": {
     "slide_type": ""
    },
    "tags": []
   },
   "source": [
    "## Challenge: Absolute vs Relative Paths\n",
    "\n",
    "Starting from `/Users/nelle/data`,\n",
    "which of the following commands could Nelle use to navigate to her home directory,\n",
    "which is `/Users/nelle`?\n",
    "\n",
    "1. `cd .`\n",
    "2. `cd /`\n",
    "3. `cd /home/nelle`\n",
    "4. `cd ../..`\n",
    "5. `cd ~`\n",
    "6. `cd home`\n",
    "7. `cd ~/data/..`\n",
    "8. `cd`\n",
    "9. `cd ..`\n"
   ]
  },
  {
   "cell_type": "markdown",
   "metadata": {
    "editable": true,
    "jp-MarkdownHeadingCollapsed": true,
    "slideshow": {
     "slide_type": ""
    },
    "tags": [
     "hide-cell"
    ]
   },
   "source": [
    "## Solution\n",
    "\n",
    "1. No: `.` stands for the current directory.\n",
    "2. No: `/` stands for the root directory.\n",
    "3. No: Nelle's home directory is `/Users/nelle`.\n",
    "4. No: this command goes up two levels, i.e. ends in `/Users`.\n",
    "5. Yes: `~` stands for the user's home directory, in this case `/Users/nelle`.\n",
    "6. No: this command would navigate into a directory `home` in the current directory\n",
    "  if it exists.\n",
    "7. Yes: unnecessarily complicated, but correct.\n",
    "8. Yes: shortcut to go back to the user's home directory.\n",
    "9. Yes: goes up one level."
   ]
  },
  {
   "cell_type": "markdown",
   "metadata": {
    "editable": true,
    "slideshow": {
     "slide_type": ""
    },
    "tags": []
   },
   "source": [
    "## Challenge: Relative Path Resolution\n",
    "\n",
    "Using the filesystem diagram below, if `pwd` displays `/Users/thing`,\n",
    "what will `ls -F ../backup` display?\n",
    "\n",
    "1. `../backup: No such file or directory`\n",
    "2. `2012-12-01 2013-01-08 2013-01-27`\n",
    "3. `2012-12-01/ 2013-01-08/ 2013-01-27/`\n",
    "4. `original/ pnas_final/ pnas_sub/`\n",
    "\n",
    "![](fig/filesystem-challenge.svg){alt='A directory tree below the Users directory where \"/Users\" contains the directories \"backup\" and \"thing\"; \"/Users/backup\" contains \"original\",\"pnas\\_final\" and \"pnas\\_sub\"; \"/Users/thing\" contains \"backup\"; and\"/Users/thing/backup\" contains \"2012-12-01\", \"2013-01-08\" and\"2013-01-27\"'}\n"
   ]
  },
  {
   "cell_type": "markdown",
   "metadata": {
    "editable": true,
    "jp-MarkdownHeadingCollapsed": true,
    "slideshow": {
     "slide_type": ""
    },
    "tags": [
     "hide-cell"
    ]
   },
   "source": [
    "## Solution\n",
    "\n",
    "1. No: there *is* a directory `backup` in `/Users`.\n",
    "2. No: this is the content of `Users/thing/backup`,\n",
    "  but with `..`, we asked for one level further up.\n",
    "3. No: see previous explanation.\n",
    "4. Yes: `../backup/` refers to `/Users/backup/`."
   ]
  },
  {
   "cell_type": "markdown",
   "metadata": {
    "editable": true,
    "jp-MarkdownHeadingCollapsed": true,
    "slideshow": {
     "slide_type": ""
    },
    "tags": []
   },
   "source": [
    "## Challenge: `ls` Reading Comprehension\n",
    "\n",
    "Using the filesystem diagram below,\n",
    "if `pwd` displays `/Users/backup`,\n",
    "and `-r` tells `ls` to display things in reverse order,\n",
    "what command(s) will result in the following output:\n",
    "\n",
    "```output\n",
    "pnas_sub/ pnas_final/ original/\n",
    "```\n",
    "\n",
    "![](fig/filesystem-challenge.svg){alt='A directory tree below the Users directory where \"/Users\" contains the directories \"backup\" and \"thing\"; \"/Users/backup\" contains \"original\",\"pnas\\_final\" and \"pnas\\_sub\"; \"/Users/thing\" contains \"backup\"; and\"/Users/thing/backup\" contains \"2012-12-01\", \"2013-01-08\" and\"2013-01-27\"'}\n",
    "\n",
    "1. `ls pwd`\n",
    "2. `ls -r -F`\n",
    "3. `ls -r -F /Users/backup`\n"
   ]
  },
  {
   "cell_type": "markdown",
   "metadata": {
    "editable": true,
    "slideshow": {
     "slide_type": ""
    },
    "tags": [
     "hide-cell"
    ]
   },
   "source": [
    "## Solution\n",
    "\n",
    "1. No: `pwd` is not the name of a directory.\n",
    "2. Yes: `ls` without directory argument lists files and directories\n",
    "  in the current directory.\n",
    "3. Yes: uses the absolute path explicitly.\n"
   ]
  },
  {
   "cell_type": "markdown",
   "metadata": {
    "editable": true,
    "slideshow": {
     "slide_type": ""
    },
    "tags": []
   },
   "source": [
    "## General Syntax of a Shell Command\n",
    "\n",
    "We have now encountered commands, options, and arguments,\n",
    "but it is perhaps useful to formalise some terminology.\n",
    "\n",
    "Consider the command below as a general example of a command,\n",
    "which we will dissect into its component parts:\n",
    "\n",
    "```bash\n",
    "$ ls -F /\n",
    "```\n",
    "\n",
    "![](fig/shell_command_syntax.svg){alt='General syntax of a shell command'}\n",
    "\n",
    "`ls` is the **command**, with an **option** `-F` and an\n",
    "**argument** `/`.\n",
    "We've already encountered options  which\n",
    "either start with a single dash (`-`), known as **short options**,\n",
    "or two dashes (`--`), known as **long options**.\n",
    "[Options] change the behavior of a command and\n",
    "[Arguments] tell the command what to operate on (e.g. files and directories).\n",
    "Sometimes options and arguments are referred to as **parameters**.\n",
    "A command can be called with more than one option and more than one argument, but a\n",
    "command doesn't always require an argument or an option.\n",
    "\n",
    "You might sometimes see options being referred to as **switches** or **flags**,\n",
    "especially for options that take no argument. In this lesson we will stick with\n",
    "using the term *option*.\n",
    "\n",
    "Each part is separated by spaces. If you omit the space\n",
    "between `ls` and `-F` the shell will look for a command called `ls-F`, which\n",
    "doesn't exist. Also, capitalization can be important.\n",
    "For example, `ls -s` will display the size of files and directories alongside the names,\n",
    "while `ls -S` will sort the files and directories by size, as shown below:\n"
   ]
  },
  {
   "cell_type": "code",
   "execution_count": 16,
   "metadata": {
    "editable": true,
    "slideshow": {
     "slide_type": ""
    },
    "tags": []
   },
   "outputs": [
    {
     "name": "stdout",
     "output_type": "stream",
     "text": [
      "total 20\n",
      "4 \u001b[0m\u001b[01;34malkanes\u001b[0m  4 \u001b[01;34manimal-counts\u001b[0m  4 \u001b[01;34mcreatures\u001b[0m  4 numbers.txt  4 \u001b[01;34mwriting\u001b[0m\n"
     ]
    }
   ],
   "source": [
    "ls -s exercise-data\n"
   ]
  },
  {
   "cell_type": "markdown",
   "metadata": {
    "editable": true,
    "slideshow": {
     "slide_type": ""
    },
    "tags": []
   },
   "source": [
    "Note that the sizes returned by `ls -s` are in *blocks*.\n",
    "As these are defined differently for different operating systems,\n",
    "you may not obtain the same figures as in the example.\n"
   ]
  },
  {
   "cell_type": "code",
   "execution_count": 17,
   "metadata": {
    "editable": true,
    "slideshow": {
     "slide_type": ""
    },
    "tags": []
   },
   "outputs": [
    {
     "name": "stdout",
     "output_type": "stream",
     "text": [
      "\u001b[0m\u001b[01;34malkanes\u001b[0m  \u001b[01;34manimal-counts\u001b[0m  \u001b[01;34mcreatures\u001b[0m  \u001b[01;34mwriting\u001b[0m  numbers.txt\n"
     ]
    }
   ],
   "source": [
    "ls -S exercise-data"
   ]
  },
  {
   "cell_type": "markdown",
   "metadata": {
    "editable": true,
    "slideshow": {
     "slide_type": ""
    },
    "tags": []
   },
   "source": [
    "Putting all that together, our command `ls -F /` above gives us a listing\n",
    "of files and directories in the root directory `/`.\n",
    "An example of the output you might get from the above command is given below:"
   ]
  },
  {
   "cell_type": "code",
   "execution_count": 18,
   "metadata": {
    "editable": true,
    "slideshow": {
     "slide_type": ""
    },
    "tags": []
   },
   "outputs": [
    {
     "name": "stdout",
     "output_type": "stream",
     "text": [
      "\u001b[0m\u001b[01;36mbin\u001b[0m@    debug  \u001b[01;34mhome\u001b[0m/   \u001b[01;36mlib64\u001b[0m@       \u001b[01;34mmedia\u001b[0m/  \u001b[01;34mproc\u001b[0m/  \u001b[01;36msbin\u001b[0m@  \u001b[01;34msys\u001b[0m/  \u001b[01;34mvar\u001b[0m/\n",
      "\u001b[01;34mboot\u001b[0m/   \u001b[01;34mdev\u001b[0m/   \u001b[01;36mlib\u001b[0m@    \u001b[01;36mlibx32\u001b[0m@      \u001b[01;34mmnt\u001b[0m/    \u001b[01;34mroot\u001b[0m/  \u001b[01;34msnap\u001b[0m/  \u001b[30;42mtmp\u001b[0m/\n",
      "\u001b[01;34mcdrom\u001b[0m/  \u001b[01;34metc\u001b[0m/   \u001b[01;36mlib32\u001b[0m@  \u001b[01;34mlost+found\u001b[0m/  \u001b[01;34mopt\u001b[0m/    \u001b[01;34mrun\u001b[0m/   \u001b[01;34msrv\u001b[0m/   \u001b[01;34musr\u001b[0m/\n"
     ]
    }
   ],
   "source": [
    "ls -F /"
   ]
  },
  {
   "cell_type": "markdown",
   "metadata": {
    "editable": true,
    "slideshow": {
     "slide_type": ""
    },
    "tags": []
   },
   "source": [
    "### Nelle's Pipeline: Organizing Files\n",
    "\n",
    "Knowing this much about files and directories,\n",
    "Nelle is ready to organize the files that the protein assay machine will create.\n",
    "\n",
    "She creates a directory called `north-pacific-gyre`\n",
    "(to remind herself where the data came from),\n",
    "which will contain the data files from the assay machine\n",
    "and her data processing scripts.\n",
    "\n",
    "Each of her physical samples is labelled according to her lab's convention\n",
    "with a unique ten-character ID,\n",
    "such as 'NENE01729A'.\n",
    "This ID is what she used in her collection log\n",
    "to record the location, time, depth, and other characteristics of the sample,\n",
    "so she decides to use it within the filename of each data file.\n",
    "Since the output of the assay machine is plain text,\n",
    "she will call her files `NENE01729A.txt`, `NENE01812A.txt`, and so on.\n",
    "All 1520 files will go into the same directory.\n",
    "\n",
    "Now in her current directory `shell-lesson-data`,\n",
    "Nelle can see what files she has using the command:\n"
   ]
  },
  {
   "cell_type": "code",
   "execution_count": 19,
   "metadata": {
    "editable": true,
    "slideshow": {
     "slide_type": ""
    },
    "tags": []
   },
   "outputs": [
    {
     "name": "stdout",
     "output_type": "stream",
     "text": [
      "goodiff.sh      NENE01736A.txt  NENE01843A.txt  NENE01978B.txt  NENE02040Z.txt\n",
      "goostats.sh     NENE01751A.txt  NENE01843B.txt  NENE02018B.txt  NENE02043A.txt\n",
      "NENE01729A.txt  NENE01751B.txt  NENE01971Z.txt  NENE02040A.txt  NENE02043B.txt\n",
      "NENE01729B.txt  NENE01812A.txt  NENE01978A.txt  NENE02040B.txt\n"
     ]
    }
   ],
   "source": [
    "ls north-pacific-gyre/"
   ]
  },
  {
   "cell_type": "markdown",
   "metadata": {
    "editable": true,
    "slideshow": {
     "slide_type": ""
    },
    "tags": []
   },
   "source": [
    "This command is a lot to type,\n",
    "but she can let the shell do most of the work through what is called **tab completion**.\n",
    "If she types:\n",
    "\n",
    "```bash\n",
    "$ ls nor\n",
    "```\n",
    "\n",
    "and then presses <kbd>Tab</kbd> (the tab key on her keyboard),\n",
    "the shell automatically completes the directory name for her:\n",
    "\n",
    "```bash\n",
    "$ ls north-pacific-gyre/\n",
    "```\n",
    "\n",
    "Pressing <kbd>Tab</kbd> again does nothing,\n",
    "since there are multiple possibilities;\n",
    "pressing <kbd>Tab</kbd> twice brings up a list of all the files.\n",
    "\n",
    "If Nelle then presses <kbd>G</kbd> and then presses <kbd>Tab</kbd> again,\n",
    "the shell will append 'goo' since all files that start with 'g' share\n",
    "the first three characters 'goo'.\n",
    "\n",
    "```bash\n",
    "$ ls north-pacific-gyre/goo\n",
    "```\n",
    "\n",
    "To see all of those files, she can press <kbd>Tab</kbd> twice more.\n",
    "\n",
    "```bash\n",
    "ls north-pacific-gyre/goo\n",
    "goodiff.sh   goostats.sh\n",
    "```\n",
    "\n",
    "This is called **tab completion**,\n",
    "and we will see it in many other tools as we go on.\n",
    "\n",
    "[Arguments]: https://swcarpentry.github.io/shell-novice/reference.html#argument\n",
    "\n",
    "Key Points\n",
    "\n",
    "- The file system is responsible for managing information on the disk.\n",
    "- Information is stored in files, which are stored in directories (folders).\n",
    "- Directories can also store other directories, which then form a directory tree.\n",
    "- `pwd` prints the user's current working directory.\n",
    "- `ls [path]` prints a listing of a specific file or directory; `ls` on its own lists the current working directory.\n",
    "- `cd [path]` changes the current working directory.\n",
    "- Most commands take options that begin with a single `-`.\n",
    "- Directory names in a path are separated with `/` on Unix, but `\\` on Windows.\n",
    "- `/` on its own is the root directory of the whole file system.\n",
    "- An absolute path specifies a location from the root of the file system.\n",
    "- A relative path specifies a location starting from the current location.\n",
    "- `.` on its own means 'the current directory'; `..` means 'the directory above the current one'.\n",
    "\n"
   ]
  }
 ],
 "metadata": {
  "kernelspec": {
   "display_name": "Bash",
   "language": "bash",
   "name": "bash"
  },
  "language_info": {
   "codemirror_mode": "shell",
   "file_extension": ".sh",
   "mimetype": "text/x-sh",
   "name": "bash"
  },
  "widgets": {
   "application/vnd.jupyter.widget-state+json": {
    "state": {},
    "version_major": 2,
    "version_minor": 0
   }
  }
 },
 "nbformat": 4,
 "nbformat_minor": 4
}
