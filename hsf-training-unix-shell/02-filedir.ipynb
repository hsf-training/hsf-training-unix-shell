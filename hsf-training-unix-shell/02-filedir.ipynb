{
 "cells": [
  {
   "cell_type": "markdown",
   "id": "9d2f1e70-46d6-476f-b1d4-60885a8d2952",
   "metadata": {
    "editable": true,
    "slideshow": {
     "slide_type": ""
    },
    "tags": []
   },
   "source": [
    "# Navigating Files and Directories\n",
    "\n",
    "::::::::::::::::::::::::::::::::::::::: objectives\n",
    "\n",
    "- Explain the similarities and differences between a file and a directory.\n",
    "- Translate an absolute path into a relative path and vice versa.\n",
    "- Construct absolute and relative paths that identify specific files and directories.\n",
    "- Use options and arguments to change the behaviour of a shell command.\n",
    "- Demonstrate the use of tab completion and explain its advantages.\n",
    "\n",
    "::::::::::::::::::::::::::::::::::::::::::::::::::\n",
    "\n",
    ":::::::::::::::::::::::::::::::::::::::: questions\n",
    "\n",
    "- How can I move around on my computer?\n",
    "- How can I see what files and directories I have?\n",
    "- How can I specify the location of a file or directory on my computer?\n",
    "\n",
    "::::::::::::::::::::::::::::::::::::::::::::::::::\n",
    "\n",
    ":::::::::::::::::::::::::::::::::::::::: instructor\n",
    "\n",
    "Introducing and navigating the filesystem in the shell\n",
    "(covered in [Navigating Files and Directories](02-filedir.md) section)\n",
    "can be confusing. You may have both terminal and GUI file explorer\n",
    "open side by side so learners can see the content and file\n",
    "structure while they're using terminal to navigate the system.\n",
    "\n",
    "::::::::::::::::::::::::::::::::::::::::::::::::::\n",
    "\n",
    "The part of the operating system responsible for managing files and directories\n",
    "is called the **file system**.\n",
    "It organizes our data into files,\n",
    "which hold information,\n",
    "and directories (also called 'folders'),\n",
    "which hold files or other directories.\n",
    "\n",
    "Several commands are frequently used to create, inspect, rename, and delete files and directories.\n",
    "To start exploring them, we'll go to our open shell window.\n",
    "\n",
    "First, let's find out where we are by running a command called `pwd`\n",
    "(which stands for 'print working directory'). Directories are like *places* — at any time\n",
    "while we are using the shell, we are in exactly one place called\n",
    "our **current working directory**. Commands mostly read and write files in the\n",
    "current working directory, i.e. 'here', so knowing where you are before running\n",
    "a command is important. `pwd` shows you where you are:"
   ]
  },
  {
   "cell_type": "code",
   "execution_count": 2,
   "id": "6a22d819-7e3d-4c33-9930-6b405cee2234",
   "metadata": {
    "editable": true,
    "slideshow": {
     "slide_type": ""
    },
    "tags": [
     "hide-cell"
    ]
   },
   "outputs": [],
   "source": [
    "cd filesystem"
   ]
  },
  {
   "cell_type": "code",
   "execution_count": 3,
   "id": "e4c9c46c-a027-42da-b404-2cf1a1a0fda6",
   "metadata": {
    "editable": true,
    "slideshow": {
     "slide_type": ""
    },
    "tags": []
   },
   "outputs": [
    {
     "name": "stdout",
     "output_type": "stream",
     "text": [
      "/Users/ariostas/Documents/uprootWork/tmp/hsf-training-unix-shell/hsf-training-unix-shell/filesystem\n"
     ]
    }
   ],
   "source": [
    "pwd"
   ]
  },
  {
   "cell_type": "code",
   "execution_count": null,
   "id": "8112c8cc-5900-454b-9035-518ca7c1c884",
   "metadata": {},
   "outputs": [],
   "source": []
  }
 ],
 "metadata": {
  "kernelspec": {
   "display_name": "Bash",
   "language": "bash",
   "name": "bash"
  },
  "language_info": {
   "codemirror_mode": "shell",
   "file_extension": ".sh",
   "mimetype": "text/x-sh",
   "name": "bash"
  }
 },
 "nbformat": 4,
 "nbformat_minor": 5
}
