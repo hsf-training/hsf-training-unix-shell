{
 "cells": [
  {
   "cell_type": "code",
   "execution_count": 1,
   "metadata": {
    "tags": [
     "remove-cell"
    ],
    "vscode": {
     "languageId": "shellscript"
    }
   },
   "outputs": [],
   "source": [
    "# setup steps required for our website\n",
    "cd filesystem/Users/nelle/Desktop/shell-lesson-data"
   ]
  },
  {
   "cell_type": "markdown",
   "metadata": {},
   "source": [
    "# Loops\n",
    "\n",
    "Objectives\n",
    "\n",
    "- Write a loop that applies one or more commands separately to each file in a set of files.\n",
    "- Trace the values taken on by a loop variable during execution of the loop.\n",
    "- Explain the difference between a variable's name and its value.\n",
    "- Explain why spaces and some punctuation characters shouldn't be used in file names.\n",
    "- Demonstrate how to see what commands have recently been executed.\n",
    "- Re-run recently executed commands without retyping them.\n",
    "\n",
    "Questions\n",
    "\n",
    "- How can I perform the same actions on many different files?\n"
   ]
  },
  {
   "cell_type": "markdown",
   "metadata": {},
   "source": [
    "\n",
    "**Loops** are a programming construct which allow us to repeat a command or set of commands\n",
    "for each item in a list.\n",
    "As such they are key to productivity improvements through automation.\n",
    "Similar to wildcards and tab completion, using loops also reduces the\n",
    "amount of typing required (and hence reduces the number of typing mistakes).\n",
    "\n",
    "Suppose we have several hundred genome data files named `basilisk.dat`, `minotaur.dat`, and\n",
    "`unicorn.dat`.\n",
    "For this example, we'll use the `exercise-data/creatures` directory which only has three\n",
    "example files,\n",
    "but the principles can be applied to many many more files at once.\n",
    "\n",
    "The structure of these files is the same: the common name, classification, and updated date are\n",
    "presented on the first three lines, with DNA sequences on the following lines.\n",
    "Let's look at the files:\n",
    "\n"
   ]
  },
  {
   "cell_type": "code",
   "execution_count": 2,
   "metadata": {
    "vscode": {
     "languageId": "shellscript"
    }
   },
   "outputs": [
    {
     "name": "stdout",
     "output_type": "stream",
     "text": [
      "==> basilisk.dat <==\n",
      "COMMON NAME: basilisk\n",
      "CLASSIFICATION: basiliscus vulgaris\n",
      "UPDATED: 1745-05-02\n",
      "CCCCAACGAG\n",
      "GAAACAGATC\n",
      "\n",
      "==> minotaur.dat <==\n",
      "COMMON NAME: minotaur\n",
      "CLASSIFICATION: bos hominus\n",
      "UPDATED: 1765-02-17\n",
      "CCCGAAGGAC\n",
      "CGACATCTCT\n",
      "\n",
      "==> unicorn.dat <==\n",
      "COMMON NAME: unicorn\n",
      "CLASSIFICATION: equus monoceros\n",
      "UPDATED: 1738-11-24\n",
      "AGCCGGGTCG\n",
      "CTTTACCTTA\n"
     ]
    }
   ],
   "source": [
    "cd exercise-data/creatures\n",
    "head -n 5 basilisk.dat minotaur.dat unicorn.dat\n"
   ]
  },
  {
   "cell_type": "markdown",
   "metadata": {},
   "source": [
    "We would like to print out the classification for each species, which is given on the second\n",
    "line of each file.\n",
    "For each file, we would need to execute the command `head -n 2` and pipe this to `tail -n 1`.\n",
    "We'll use a loop to solve this problem, but first let's look at the general form of a loop,\n",
    "using the pseudo-code below:\n",
    "\n",
    "```bash\n",
    "# The word \"for\" indicates the start of a \"For-loop\" command\n",
    "for thing in list_of_things \n",
    "#The word \"do\" indicates the start of job execution list\n",
    "do \n",
    "    # Indentation within the loop is not required, but aids legibility\n",
    "    operation_using/command $thing \n",
    "# The word \"done\" indicates the end of a loop\n",
    "done  \n",
    "```\n",
    "\n",
    "and we can apply this to our example like this:\n"
   ]
  },
  {
   "cell_type": "code",
   "execution_count": 3,
   "metadata": {
    "vscode": {
     "languageId": "shellscript"
    }
   },
   "outputs": [
    {
     "name": "stdout",
     "output_type": "stream",
     "text": [
      "basilisk.dat\n",
      "CLASSIFICATION: basiliscus vulgaris\n",
      "minotaur.dat\n",
      "CLASSIFICATION: bos hominus\n",
      "unicorn.dat\n",
      "CLASSIFICATION: equus monoceros\n"
     ]
    }
   ],
   "source": [
    "for filename in basilisk.dat minotaur.dat unicorn.dat\n",
    "do\n",
    "    echo $filename\n",
    "    head -n 2 $filename | tail -n 1\n",
    "done"
   ]
  },
  {
   "cell_type": "markdown",
   "metadata": {},
   "source": [
    "## Follow the Prompt\n",
    "\n",
    "The shell prompt changes from `$` to `>` and back again as we were\n",
    "typing in our loop. The second prompt, `>`, is different to remind\n",
    "us that we haven't finished typing a complete command yet. A semicolon, `;`,\n",
    "can be used to separate two commands written on a single line.\n"
   ]
  },
  {
   "cell_type": "markdown",
   "metadata": {},
   "source": [
    "When the shell sees the keyword `for`,\n",
    "it knows to repeat a command (or group of commands) once for each item in a list.\n",
    "Each time the loop runs (called an iteration), an item in the list is assigned in sequence to\n",
    "the **variable**, and the commands inside the loop are executed, before moving on to\n",
    "the next item in the list.\n",
    "Inside the loop,\n",
    "we call for the variable's value by putting `$` in front of it.\n",
    "The `$` tells the shell interpreter to treat\n",
    "the variable as a variable name and substitute its value in its place,\n",
    "rather than treat it as text or an external command.\n",
    "\n",
    "In this example, the list is three filenames: `basilisk.dat`, `minotaur.dat`, and `unicorn.dat`.\n",
    "Each time the loop iterates, we first use `echo` to print the value that the variable\n",
    "`$filename` currently holds. This is not necessary for the result, but beneficial for us here to\n",
    "have an easier time to follow along.\n",
    "Next, we will run the `head` command on the file currently referred to by `$filename`.\n",
    "The first time through the loop, `$filename` is `basilisk.dat`.\n",
    "The interpreter runs the command `head` on `basilisk.dat`\n",
    "and pipes the first two lines to the `tail` command,\n",
    "which then prints the second line of `basilisk.dat`.\n",
    "For the second iteration, `$filename` becomes\n",
    "`minotaur.dat`. This time, the shell runs `head` on `minotaur.dat`\n",
    "and pipes the first two lines to the `tail` command,\n",
    "which then prints the second line of `minotaur.dat`.\n",
    "For the third iteration, `$filename` becomes\n",
    "`unicorn.dat`, so the shell runs the `head` command on that file,\n",
    "and `tail` on the output of that.\n",
    "Since the list was only three items, the shell exits the `for` loop.\n"
   ]
  },
  {
   "cell_type": "markdown",
   "metadata": {},
   "source": [
    "## Same Symbols, Different Meanings\n",
    "\n",
    "Here we see `>` being used as a shell prompt, whereas `>` is also\n",
    "used to redirect output.\n",
    "Similarly, `$` is used as a shell prompt, but, as we saw earlier,\n",
    "it is also used to ask the shell to get the value of a variable.\n",
    "\n",
    "If the *shell* prints `>` or `$` then it expects you to type something,\n",
    "and the symbol is a prompt.\n",
    "\n",
    "If *you* type `>` or `$` yourself, it is an instruction from you that\n",
    "the shell should redirect output or get the value of a variable.\n",
    "\n"
   ]
  },
  {
   "cell_type": "markdown",
   "metadata": {},
   "source": [
    "When using variables it is also\n",
    "possible to put the names into curly braces to clearly delimit the variable\n",
    "name: `$filename` is equivalent to `${filename}`, but is different from\n",
    "`${file}name`. You may find this notation in other people's programs.\n",
    "\n",
    "We have called the variable in this loop `filename`\n",
    "in order to make its purpose clearer to human readers.\n",
    "The shell itself doesn't care what the variable is called;\n",
    "if we wrote this loop as:\n"
   ]
  },
  {
   "cell_type": "code",
   "execution_count": 4,
   "metadata": {
    "tags": [],
    "vscode": {
     "languageId": "shellscript"
    }
   },
   "outputs": [
    {
     "name": "stdout",
     "output_type": "stream",
     "text": [
      "CLASSIFICATION: basiliscus vulgaris\n",
      "CLASSIFICATION: bos hominus\n",
      "CLASSIFICATION: equus monoceros\n"
     ]
    }
   ],
   "source": [
    "for x in basilisk.dat minotaur.dat unicorn.dat\n",
    "do\n",
    "    head -n 2 $x | tail -n 1\n",
    "done"
   ]
  },
  {
   "cell_type": "markdown",
   "metadata": {},
   "source": [
    "or"
   ]
  },
  {
   "cell_type": "code",
   "execution_count": 5,
   "metadata": {
    "tags": [],
    "vscode": {
     "languageId": "shellscript"
    }
   },
   "outputs": [
    {
     "name": "stdout",
     "output_type": "stream",
     "text": [
      "CLASSIFICATION: basiliscus vulgaris\n",
      "CLASSIFICATION: bos hominus\n",
      "CLASSIFICATION: equus monoceros\n"
     ]
    }
   ],
   "source": [
    "for temperature in basilisk.dat minotaur.dat unicorn.dat\n",
    "do\n",
    "    head -n 2 $temperature | tail -n 1\n",
    "done\n"
   ]
  },
  {
   "cell_type": "markdown",
   "metadata": {
    "jp-MarkdownHeadingCollapsed": true
   },
   "source": [
    "it works exactly the same way.\n",
    "*Don't do this.*\n",
    "Programs are only useful if people can understand them,\n",
    "so meaningless names (like `x`) or misleading names (like `temperature`)\n",
    "increase the odds that the program won't do what its readers think it does.\n",
    "\n",
    "In the above examples, the variables (`thing`, `filename`, `x` and `temperature`)\n",
    "could have been given any other name, as long as it is meaningful to both the person\n",
    "writing the code and the person reading it.\n",
    "\n",
    "Note also that loops can be used for other things than filenames, like a list of numbers\n",
    "or a subset of data."
   ]
  },
  {
   "cell_type": "markdown",
   "metadata": {},
   "source": [
    "## Challenge: Write your own loop\n",
    "\n",
    "How would you write a loop that echoes all 10 numbers from 0 to 9?"
   ]
  },
  {
   "cell_type": "markdown",
   "metadata": {
    "editable": true,
    "slideshow": {
     "slide_type": ""
    },
    "tags": [
     "hide-cell"
    ]
   },
   "source": [
    "```{toggle} Solution\n",
    "## Solution\n",
    "\n",
    "`$ for loop_variable in 0 1 2 3 4 5 6 7 8 9`\n",
    "`> do`\n",
    "`>     echo $loop_variable`\n",
    "`> done`\n",
    "```"
   ]
  },
  {
   "cell_type": "markdown",
   "metadata": {},
   "source": [
    "## Challenge: Variables in Loops\n",
    "\n",
    "This exercise refers to the `shell-lesson-data/exercise-data/alkanes` directory.\n"
   ]
  },
  {
   "cell_type": "code",
   "execution_count": 6,
   "metadata": {},
   "outputs": [
    {
     "name": "stdout",
     "output_type": "stream",
     "text": [
      "cubane.pdb  ethane.pdb  methane.pdb  octane.pdb  pentane.pdb  propane.pdb\n"
     ]
    }
   ],
   "source": [
    "cd ../alkanes\n",
    "ls *.pdb"
   ]
  },
  {
   "cell_type": "markdown",
   "metadata": {},
   "source": [
    "What is the output of the following code?\n",
    "\n",
    "```bash\n",
    "$ for datafile in *.pdb\n",
    "> do\n",
    ">     ls *.pdb\n",
    "> done\n",
    "```\n",
    "\n",
    "Now, what is the output of the following code?\n",
    "\n",
    "```bash\n",
    "$ for datafile in *.pdb\n",
    "> do\n",
    ">     ls $datafile\n",
    "> done\n",
    "```\n",
    "\n",
    "Why do these two loops give different outputs?\n"
   ]
  },
  {
   "cell_type": "markdown",
   "metadata": {},
   "source": [
    "```{toggle} Solution\n",
    "## Solution\n",
    "\n",
    "The first code block gives the same output on each iteration through\n",
    "the loop.\n",
    "Bash expands the wildcard `*.pdb` within the loop body (as well as\n",
    "before the loop starts) to match all files ending in `.pdb`\n",
    "and then lists them using `ls`.\n",
    "The expanded loop would look like this:\n",
    "\n",
    "`$ for datafile in cubane.pdb  ethane.pdb  methane.pdb  octane.pdb  pentane.pdb  propane.pdb`\n",
    "`> do`\n",
    "`>     ls cubane.pdb  ethane.pdb  methane.pdb  octane.pdb  pentane.pdb  propane.pdb`\n",
    "`> done`\n",
    "\n",
    "`cubane.pdb  ethane.pdb  methane.pdb  octane.pdb  pentane.pdb  propane.pdb`\n",
    "`cubane.pdb  ethane.pdb  methane.pdb  octane.pdb  pentane.pdb  propane.pdb`\n",
    "`cubane.pdb  ethane.pdb  methane.pdb  octane.pdb  pentane.pdb  propane.pdb`\n",
    "`cubane.pdb  ethane.pdb  methane.pdb  octane.pdb  pentane.pdb  propane.pdb`\n",
    "`cubane.pdb  ethane.pdb  methane.pdb  octane.pdb  pentane.pdb  propane.pdb`\n",
    "`cubane.pdb  ethane.pdb  methane.pdb  octane.pdb  pentane.pdb  propane.pdb`\n",
    "\n",
    "The second code block lists a different file on each loop iteration.\n",
    "The value of the `datafile` variable is evaluated using `$datafile`,\n",
    "and then listed using `ls`.\n",
    "\n",
    "`cubane.pdb`\n",
    "`ethane.pdb`\n",
    "`methane.pdb`\n",
    "`octane.pdb`\n",
    "`pentane.pdb`\n",
    "`propane.pdb`\n",
    "```"
   ]
  },
  {
   "cell_type": "markdown",
   "metadata": {},
   "source": [
    "## Challenge: Limiting Sets of Files\n",
    "\n",
    "What would be the output of running the following loop in the\n",
    "`shell-lesson-data/exercise-data/alkanes` directory?\n",
    "\n",
    "```bash\n",
    "$ for filename in c*\n",
    "> do\n",
    ">     ls $filename\n",
    "> done\n",
    "```\n",
    "\n",
    "1. No files are listed.\n",
    "2. All files are listed.\n",
    "3. Only `cubane.pdb`, `octane.pdb` and `pentane.pdb` are listed.\n",
    "4. Only `cubane.pdb` is listed.\n"
   ]
  },
  {
   "cell_type": "markdown",
   "metadata": {},
   "source": [
    "```{toggle} Solution\n",
    "## Solution\n",
    "\n",
    "4 is the correct answer. `*` matches zero or more characters, so any file name starting with\n",
    "the letter c, followed by zero or more other characters will be matched.\n",
    "```\n"
   ]
  },
  {
   "cell_type": "markdown",
   "metadata": {},
   "source": [
    "How would the output differ from using this command instead?\n",
    "\n",
    "```bash\n",
    "$ for filename in *c*\n",
    "> do\n",
    ">     ls $filename\n",
    "> done\n",
    "```\n",
    "\n",
    "1. The same files would be listed.\n",
    "2. All the files are listed this time.\n",
    "3. No files are listed this time.\n",
    "4. The files `cubane.pdb` and `octane.pdb` will be listed.\n",
    "5. Only the file `octane.pdb` will be listed.\n"
   ]
  },
  {
   "cell_type": "markdown",
   "metadata": {},
   "source": [
    "```{toggle}\n",
    "## Solution\n",
    "\n",
    "4 is the correct answer. `*` matches zero or more characters, so a file name with zero or more\n",
    "characters before a letter c and zero or more characters after the letter c will be matched.\n",
    "```\n"
   ]
  },
  {
   "cell_type": "markdown",
   "metadata": {},
   "source": [
    "## Challenge: Saving to a File in a Loop - Part One\n",
    "\n",
    "In the `shell-lesson-data/exercise-data/alkanes` directory, what is the effect of this loop?\n",
    "\n",
    "```bash\n",
    "for alkanes in *.pdb\n",
    "do\n",
    "    echo $alkanes\n",
    "    cat $alkanes > alkanes.pdb\n",
    "done\n",
    "```\n",
    "\n",
    "1. Prints `cubane.pdb`, `ethane.pdb`, `methane.pdb`, `octane.pdb`, `pentane.pdb` and\n",
    "  `propane.pdb`, and the text from `propane.pdb` will be saved to a file called `alkanes.pdb`.\n",
    "2. Prints `cubane.pdb`, `ethane.pdb`, and `methane.pdb`, and the text from all three files\n",
    "  would be concatenated and saved to a file called `alkanes.pdb`.\n",
    "3. Prints `cubane.pdb`, `ethane.pdb`, `methane.pdb`, `octane.pdb`, and `pentane.pdb`,\n",
    "  and the text from `propane.pdb` will be saved to a file called `alkanes.pdb`.\n",
    "4. None of the above.\n"
   ]
  },
  {
   "cell_type": "markdown",
   "metadata": {},
   "source": [
    "```{toggle} Solution\n",
    "\n",
    "## Solution\n",
    "\n",
    "1. The text from each file in turn gets written to the `alkanes.pdb` file.\n",
    "  However, the file gets overwritten on each loop iteration, so the final content of\n",
    "  `alkanes.pdb`\n",
    "  is the text from the `propane.pdb` file.\n",
    "```\n"
   ]
  },
  {
   "cell_type": "markdown",
   "metadata": {},
   "source": [
    "\n",
    "## Saving to a File in a Loop - Part Two\n",
    "\n",
    "Also in the `shell-lesson-data/exercise-data/alkanes` directory,\n",
    "what would be the output of the following loop?\n",
    "\n",
    "```bash\n",
    "for datafile in *.pdb\n",
    "do\n",
    "    cat $datafile >> all.pdb\n",
    "done\n",
    "```\n",
    "\n",
    "1. All of the text from `cubane.pdb`, `ethane.pdb`, `methane.pdb`, `octane.pdb`, and\n",
    "  `pentane.pdb` would be concatenated and saved to a file called `all.pdb`.\n",
    "2. The text from `ethane.pdb` will be saved to a file called `all.pdb`.\n",
    "3. All of the text from `cubane.pdb`, `ethane.pdb`, `methane.pdb`, `octane.pdb`, `pentane.pdb`\n",
    "  and `propane.pdb` would be concatenated and saved to a file called `all.pdb`.\n",
    "4. All of the text from `cubane.pdb`, `ethane.pdb`, `methane.pdb`, `octane.pdb`, `pentane.pdb`\n",
    "  and `propane.pdb` would be printed to the screen and saved to a file called `all.pdb`.\n",
    "\n",
    "\n",
    "```{toggle} Solution\n",
    "\n",
    "## Solution\n",
    "\n",
    "3 is the correct answer. `>>` appends to a file, rather than overwriting it with the redirected\n",
    "output from a command.\n",
    "Given the output from the `cat` command has been redirected, nothing is printed to the screen.\n",
    "\n",
    "```\n"
   ]
  },
  {
   "cell_type": "markdown",
   "metadata": {},
   "source": [
    "Let's continue with our example in the `shell-lesson-data/exercise-data/creatures` directory.\n",
    "Here's a slightly more complicated loop:\n",
    "\n",
    "```bash\n",
    "$ for filename in *.dat\n",
    "> do\n",
    ">     echo $filename\n",
    ">     head -n 100 $filename | tail -n 20\n",
    "> done\n",
    "```\n",
    "\n",
    "The shell starts by expanding `*.dat` to create the list of files it will process.\n",
    "The **loop body**\n",
    "then executes two commands for each of those files.\n",
    "The first command, `echo`, prints its command-line arguments to standard output.\n",
    "For example:\n"
   ]
  },
  {
   "cell_type": "code",
   "execution_count": 7,
   "metadata": {},
   "outputs": [
    {
     "name": "stdout",
     "output_type": "stream",
     "text": [
      "hello there\n"
     ]
    }
   ],
   "source": [
    "echo \"hello there\""
   ]
  },
  {
   "cell_type": "markdown",
   "metadata": {},
   "source": [
    "\n",
    "In this case,\n",
    "since the shell expands `$filename` to be the name of a file,\n",
    "`echo $filename` prints the name of the file.\n",
    "Note that we can't write this as:\n",
    "\n",
    "```bash\n",
    "$ for filename in *.dat\n",
    "> do\n",
    ">     $filename\n",
    ">     head -n 100 $filename | tail -n 20\n",
    "> done\n",
    "```\n",
    "\n",
    "because then the first time through the loop,\n",
    "when `$filename` expanded to `basilisk.dat`, the shell would try to run `basilisk.dat` as\n",
    "a program.\n",
    "Finally,\n",
    "the `head` and `tail` combination selects lines 81-100\n",
    "from whatever file is being processed\n",
    "(assuming the file has at least 100 lines).\n"
   ]
  },
  {
   "cell_type": "markdown",
   "metadata": {},
   "source": [
    "## Spaces in Names\n",
    "\n",
    "Spaces are used to separate the elements of the list\n",
    "that we are going to loop over. If one of those elements\n",
    "contains a space character, we need to surround it with\n",
    "quotes, and do the same thing to our loop variable.\n",
    "Suppose our data files are named:\n",
    "\n",
    "```source\n",
    "red dragon.dat\n",
    "purple unicorn.dat\n",
    "```\n",
    "\n",
    "To loop over these files, we would need to add double quotes like so:\n",
    "\n",
    "```bash\n",
    "$ for filename in \"red dragon.dat\" \"purple unicorn.dat\"\n",
    "> do\n",
    ">     head -n 100 \"$filename\" | tail -n 20\n",
    "> done\n",
    "```\n",
    "\n",
    "It is simpler to avoid using spaces (or other special characters) in filenames.\n",
    "\n",
    "The files above don't exist, so if we run the above code, the `head` command will be unable\n",
    "to find them; however, the error message returned will show the name of the files it is\n",
    "expecting:\n",
    "\n",
    "```error\n",
    "head: cannot open ‘red dragon.dat' for reading: No such file or directory\n",
    "head: cannot open ‘purple unicorn.dat' for reading: No such file or directory\n",
    "```\n",
    "\n",
    "Try removing the quotes around `$filename` in the loop above to see the effect of the quote\n",
    "marks on spaces. Note that we get a result from the loop command for unicorn.dat\n",
    "when we run this code in the `creatures` directory:\n",
    "\n",
    "```output\n",
    "head: cannot open ‘red' for reading: No such file or directory\n",
    "head: cannot open ‘dragon.dat' for reading: No such file or directory\n",
    "head: cannot open ‘purple' for reading: No such file or directory\n",
    "CGGTACCGAA\n",
    "AAGGGTCGCG\n",
    "CAAGTGTTCC\n",
    "...\n",
    "```\n"
   ]
  },
  {
   "cell_type": "markdown",
   "metadata": {},
   "source": [
    "We would like to modify each of the files in `shell-lesson-data/exercise-data/creatures`,\n",
    "but also save a version of the original files. We want to copy the original files to new\n",
    "files named `original-basilisk.dat` and `original-unicorn.dat`, for example. We can't use:\n",
    "\n",
    "```bash\n",
    "$ cp *.dat original-*.dat\n",
    "```\n",
    "\n",
    "because that would expand to:\n",
    "\n",
    "```bash\n",
    "$ cp basilisk.dat minotaur.dat unicorn.dat original-*.dat\n",
    "```\n",
    "\n",
    "This wouldn't back up our files, instead we get an error:\n",
    "\n",
    "```error\n",
    "cp: target `original-*.dat' is not a directory\n",
    "```\n",
    "\n",
    "This problem arises when `cp` receives more than two inputs. When this happens, it expects the\n",
    "last input to be a directory where it can copy all the files it was passed. Since there is\n",
    "no directory named `original-*.dat` in the `creatures` directory, we get an error.\n",
    "\n",
    "Instead, we can use a loop:\n",
    "\n",
    "```bash\n",
    "$ for filename in *.dat\n",
    "> do\n",
    ">     cp $filename original-$filename\n",
    "> done\n",
    "```\n",
    "\n",
    "This loop runs the `cp` command once for each filename.\n",
    "The first time,\n",
    "when `$filename` expands to `basilisk.dat`,\n",
    "the shell executes:\n",
    "\n",
    "```bash\n",
    "cp basilisk.dat original-basilisk.dat\n",
    "```\n",
    "\n",
    "The second time, the command is:\n",
    "\n",
    "```bash\n",
    "cp minotaur.dat original-minotaur.dat\n",
    "```\n",
    "\n",
    "The third and last time, the command is:\n",
    "\n",
    "```bash\n",
    "cp unicorn.dat original-unicorn.dat\n",
    "```\n",
    "\n",
    "Since the `cp` command does not normally produce any output, it's hard to check\n",
    "that the loop is working correctly. However, we learned earlier how to print strings\n",
    "using `echo`, and we can modify the loop to use `echo` to print our commands without\n",
    "actually executing them. As such we can check what commands *would be* run in the\n",
    "unmodified loop.\n",
    "\n",
    "The following diagram\n",
    "shows what happens when the modified loop is executed and demonstrates how the\n",
    "judicious use of `echo` is a good debugging technique.\n",
    "\n",
    "![](fig/shell_script_for_loop_flow_chart.svg){alt='The for loop \"for filename in .dat; do echo cp $filename original-$filename;done\" will successively assign the names of all \".dat\" files in your currentdirectory to the variable \"$filename\" and then execute the command. With thefiles \"basilisk.dat\", \"minotaur.dat\" and \"unicorn.dat\" in the current directorythe loop will successively call the echo command three times and print threelines: \"cp basislisk.dat original-basilisk.dat\", then \"cp minotaur.datoriginal-minotaur.dat\" and finally \"cp unicorn.datoriginal-unicorn.dat\"'}\n",
    "\n"
   ]
  },
  {
   "cell_type": "markdown",
   "metadata": {},
   "source": [
    "## Nelle's Pipeline: Processing Files\n",
    "\n",
    "Nelle is now ready to process her data files using `goostats.sh` ---\n",
    "a shell script written by her supervisor. This calculates some statistics from a\n",
    "protein sample file and takes two arguments:\n",
    "\n",
    "1. an input file (containing the raw data)\n",
    "2. an output file (to store the calculated statistics)\n",
    "\n",
    "Since she's still learning how to use the shell,\n",
    "she decides to build up the required commands in stages.\n",
    "Her first step is to make sure that she can select the right input files --- remember,\n",
    "these are ones whose names end in 'A' or 'B', rather than 'Z'.\n",
    "Moving to the `north-pacific-gyre` directory, Nelle types:\n"
   ]
  },
  {
   "cell_type": "code",
   "execution_count": 8,
   "metadata": {},
   "outputs": [
    {
     "name": "stdout",
     "output_type": "stream",
     "text": [
      "NENE01729A.txt\n",
      "NENE01736A.txt\n",
      "NENE01751A.txt\n",
      "NENE01812A.txt\n",
      "NENE01843A.txt\n",
      "NENE01978A.txt\n",
      "NENE02040A.txt\n",
      "NENE02043A.txt\n",
      "NENE01729B.txt\n",
      "NENE01751B.txt\n",
      "NENE01843B.txt\n",
      "NENE01978B.txt\n",
      "NENE02018B.txt\n",
      "NENE02040B.txt\n",
      "NENE02043B.txt\n"
     ]
    }
   ],
   "source": [
    "cd ../../north-pacific-gyre\n",
    "for datafile in NENE*A.txt NENE*B.txt\n",
    "do\n",
    "    echo $datafile\n",
    "done\n"
   ]
  },
  {
   "cell_type": "markdown",
   "metadata": {},
   "source": [
    "Her next step is to decide\n",
    "what to call the files that the `goostats.sh` analysis program will create.\n",
    "Prefixing each input file's name with 'stats' seems simple,\n",
    "so she modifies her loop to do that:\n"
   ]
  },
  {
   "cell_type": "code",
   "execution_count": 9,
   "metadata": {},
   "outputs": [
    {
     "name": "stdout",
     "output_type": "stream",
     "text": [
      "NENE01729A.txt stats-NENE01729A.txt\n",
      "NENE01736A.txt stats-NENE01736A.txt\n",
      "NENE01751A.txt stats-NENE01751A.txt\n",
      "NENE01812A.txt stats-NENE01812A.txt\n",
      "NENE01843A.txt stats-NENE01843A.txt\n",
      "NENE01978A.txt stats-NENE01978A.txt\n",
      "NENE02040A.txt stats-NENE02040A.txt\n",
      "NENE02043A.txt stats-NENE02043A.txt\n",
      "NENE01729B.txt stats-NENE01729B.txt\n",
      "NENE01751B.txt stats-NENE01751B.txt\n",
      "NENE01843B.txt stats-NENE01843B.txt\n",
      "NENE01978B.txt stats-NENE01978B.txt\n",
      "NENE02018B.txt stats-NENE02018B.txt\n",
      "NENE02040B.txt stats-NENE02040B.txt\n",
      "NENE02043B.txt stats-NENE02043B.txt\n"
     ]
    }
   ],
   "source": [
    "for datafile in NENE*A.txt NENE*B.txt\n",
    "do\n",
    "    echo $datafile stats-$datafile\n",
    "done\n"
   ]
  },
  {
   "cell_type": "markdown",
   "metadata": {},
   "source": [
    "She hasn't actually run `goostats.sh` yet,\n",
    "but now she's sure she can select the right files and generate the right output filenames.\n",
    "\n",
    "Typing in commands over and over again is becoming tedious,\n",
    "though,\n",
    "and Nelle is worried about making mistakes,\n",
    "so instead of re-entering her loop,\n",
    "she presses <kbd>↑</kbd>.\n",
    "In response,\n",
    "the shell redisplays the whole loop on one line\n",
    "(using semi-colons to separate the pieces):\n",
    "\n",
    "```bash\n",
    "$ for datafile in NENE*A.txt NENE*B.txt; do echo $datafile stats-$datafile; done\n",
    "```\n",
    "\n",
    "Using the <kbd>←</kbd>,\n",
    "Nelle navigates to the `echo` command and changes it to `bash goostats.sh`:\n",
    "\n",
    "```bash\n",
    "$ for datafile in NENE*A.txt NENE*B.txt; do bash goostats.sh $datafile stats-$datafile; done\n",
    "```\n",
    "\n",
    "When she presses <kbd>Enter</kbd>,\n",
    "the shell runs the modified command.\n",
    "However, nothing appears to happen --- there is no output.\n",
    "After a moment, Nelle realizes that since her script doesn't print anything to the screen\n",
    "any longer, she has no idea whether it is running, much less how quickly.\n",
    "She kills the running command by typing <kbd>Ctrl</kbd>\\+<kbd>C</kbd>,\n",
    "uses <kbd>↑</kbd> to repeat the command,\n",
    "and edits it to read:\n",
    "\n",
    "```bash\n",
    "$ for datafile in NENE*A.txt NENE*B.txt; do echo $datafile;\n",
    "bash goostats.sh $datafile stats-$datafile; done\n",
    "```\n"
   ]
  },
  {
   "cell_type": "markdown",
   "metadata": {},
   "source": [
    "## Beginning and End\n",
    "\n",
    "We can move to the beginning of a line in the shell by typing <kbd>Ctrl</kbd>\\+<kbd>A</kbd>\n",
    "and to the end using <kbd>Ctrl</kbd>\\+<kbd>E</kbd>.\n"
   ]
  },
  {
   "cell_type": "markdown",
   "metadata": {},
   "source": [
    "When she runs her program now,\n",
    "it produces one line of output every five seconds or so:\n",
    "\n",
    "```output\n",
    "NENE01729A.txt\n",
    "NENE01736A.txt\n",
    "NENE01751A.txt\n",
    "...\n",
    "```\n",
    "\n",
    "1518 times 5 seconds,\n",
    "divided by 60,\n",
    "tells her that her script will take about two hours to run.\n",
    "As a final check,m\n",
    "she opens another terminal window,\n",
    "goes into `north-pacific-gyre`,\n",
    "and uses `cat stats-NENE01729B.txt`\n",
    "to examine one of the output files.\n",
    "It looks good,\n",
    "so she decides to get some coffee and catch up on her reading.\n",
    "\n"
   ]
  },
  {
   "cell_type": "markdown",
   "metadata": {},
   "source": [
    "## Those Who Know History Can Choose to Repeat It\n",
    "\n",
    "Another way to repeat previous work is to use the `history` command to\n",
    "get a list of the last few hundred commands that have been executed, and\n",
    "then to use `!123` (where '123' is replaced by the command number) to\n",
    "repeat one of those commands. For example, if Nelle types this:\n",
    "\n",
    "```bash\n",
    "$ history | tail -n 5\n",
    "```\n",
    "\n",
    "```output\n",
    "456  for datafile in NENE*A.txt NENE*B.txt; do   echo $datafile stats-$datafile; done\n",
    "457  for datafile in NENE*A.txt NENE*B.txt; do echo $datafile stats-$datafile; done\n",
    "458  for datafile in NENE*A.txt NENE*B.txt; do bash goostats.sh $datafile stats-$datafile; done\n",
    "459  for datafile in NENE*A.txt NENE*B.txt; do echo $datafile; bash goostats.sh $datafile\n",
    "stats-$datafile; done\n",
    "460  history | tail -n 5\n",
    "```\n",
    "\n",
    "then she can re-run `goostats.sh` on the files simply by typing\n",
    "`!459`.\n",
    "\n"
   ]
  },
  {
   "cell_type": "markdown",
   "metadata": {},
   "source": [
    "## Other History Commands\n",
    "\n",
    "There are a number of other shortcut commands for getting at the history.\n",
    "\n",
    "- <kbd>Ctrl</kbd>\\+<kbd>R</kbd> enters a history search mode 'reverse-i-search' and finds the\n",
    "  most recent command in your history that matches the text you enter next.\n",
    "  Press <kbd>Ctrl</kbd>\\+<kbd>R</kbd> one or more additional times to search for earlier matches.\n",
    "  You can then use the left and right arrow keys to choose that line and edit\n",
    "  it then hit <kbd>Return</kbd> to run the command.\n",
    "- `!!` retrieves the immediately preceding command\n",
    "  (you may or may not find this more convenient than using <kbd>↑</kbd>)\n",
    "- `!$` retrieves the last word of the last command.\n",
    "  That's useful more often than you might expect: after\n",
    "  `bash goostats.sh NENE01729B.txt stats-NENE01729B.txt`, you can type\n",
    "  `less !$` to look at the file `stats-NENE01729B.txt`, which is\n",
    "  quicker than doing <kbd>↑</kbd> and editing the command-line.\n"
   ]
  },
  {
   "cell_type": "markdown",
   "metadata": {},
   "source": [
    "## Challenge: Doing a Dry Run\n",
    "\n",
    "A loop is a way to do many things at once --- or to make many mistakes at\n",
    "once if it does the wrong thing. One way to check what a loop *would* do\n",
    "is to `echo` the commands it would run instead of actually running them.\n",
    "\n",
    "Suppose we want to preview the commands the following loop will execute\n",
    "without actually running those commands:\n",
    "\n",
    "```bash\n",
    "$ for datafile in *.pdb\n",
    "> do\n",
    ">     cat $datafile >> all.pdb\n",
    "> done\n",
    "```\n",
    "\n",
    "What is the difference between the two loops below, and which one would we\n",
    "want to run?\n",
    "\n",
    "```bash\n",
    "# Version 1\n",
    "$ for datafile in *.pdb\n",
    "> do\n",
    ">     echo cat $datafile >> all.pdb\n",
    "> done\n",
    "```\n",
    "\n",
    "```bash\n",
    "# Version 2\n",
    "$ for datafile in *.pdb\n",
    "> do\n",
    ">     echo \"cat $datafile >> all.pdb\"\n",
    "> done\n",
    "```\n"
   ]
  },
  {
   "cell_type": "markdown",
   "metadata": {},
   "source": [
    "```{toggle} Solution\n",
    "## Solution\n",
    "\n",
    "The second version is the one we want to run.\n",
    "This prints to screen everything enclosed in the quote marks, expanding the\n",
    "loop variable name because we have prefixed it with a dollar sign.\n",
    "It also *does not* modify nor create the file `all.pdb`, as the `>>`\n",
    "is treated literally as part of a string rather than as a\n",
    "redirection instruction.\n",
    "\n",
    "The first version appends the output from the command `echo cat $datafile`\n",
    "to the file, `all.pdb`. This file will just contain the list;\n",
    "`cat cubane.pdb`, `cat ethane.pdb`, `cat methane.pdb` etc.\n",
    "\n",
    "Try both versions for yourself to see the output! Be sure to open the\n",
    "`all.pdb` file to view its contents.\n",
    "```\n"
   ]
  },
  {
   "cell_type": "markdown",
   "metadata": {},
   "source": [
    "## Challenge: Nested Loops\n",
    "\n",
    "Suppose we want to set up a directory structure to organize\n",
    "some experiments measuring reaction rate constants with different compounds\n",
    "*and* different temperatures.  What would be the\n",
    "result of the following code:\n",
    "\n",
    "```bash\n",
    "$ for species in cubane ethane methane\n",
    "> do\n",
    ">     for temperature in 25 30 37 40\n",
    ">     do\n",
    ">         mkdir $species-$temperature\n",
    ">     done\n",
    "> done\n",
    "```\n",
    "\n",
    "```{toggle} Solution\n",
    "## Solution\n",
    "\n",
    "We have a nested loop, i.e. contained within another loop, so for each species\n",
    "in the outer loop, the inner loop (the nested loop) iterates over the list of\n",
    "temperatures, and creates a new directory for each combination.\n",
    "\n",
    "Try running the code for yourself to see which directories are created!\n",
    "```\n"
   ]
  },
  {
   "cell_type": "markdown",
   "metadata": {},
   "source": [
    "Key Points\n",
    "\n",
    "- A `for` loop repeats commands once for every thing in a list.\n",
    "- Every `for` loop needs a variable to refer to the thing it is currently operating on.\n",
    "- Use `$name` to expand a variable (i.e., get its value). `${name}` can also be used.\n",
    "- Do not use spaces, quotes, or wildcard characters such as '\\*' or '?' in filenames, as it complicates variable expansion.\n",
    "- Give files consistent names that are easy to match with wildcard patterns to make it easy to select them for looping.\n",
    "- Use the up-arrow key to scroll up through previous commands to edit and repeat them.\n",
    "- Use <kbd>Ctrl</kbd>\\+<kbd>R</kbd> to search through the previously entered commands.\n",
    "- Use `history` to display recent commands, and `![number]` to repeat a command by number.\n"
   ]
  }
 ],
 "metadata": {
  "kernelspec": {
   "display_name": "Bash",
   "language": "bash",
   "name": "bash"
  },
  "language_info": {
   "codemirror_mode": "shell",
   "file_extension": ".sh",
   "mimetype": "text/x-sh",
   "name": "bash"
  },
  "widgets": {
   "application/vnd.jupyter.widget-state+json": {
    "state": {},
    "version_major": 2,
    "version_minor": 0
   }
  }
 },
 "nbformat": 4,
 "nbformat_minor": 4
}
