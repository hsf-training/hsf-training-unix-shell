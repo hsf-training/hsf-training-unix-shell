{
 "cells": [
  {
   "cell_type": "code",
   "execution_count": 1,
   "metadata": {
    "tags": [
     "remove-cell"
    ],
    "vscode": {
     "languageId": "shellscript"
    }
   },
   "outputs": [],
   "source": [
    "# setup steps required for our website\n",
    "cd filesystem/Users/nelle/Desktop/shell-lesson-data"
   ]
  },
  {
   "cell_type": "markdown",
   "metadata": {},
   "source": [
    "# Shell Scripts\n",
    "\n",
    "Objectives\n",
    "\n",
    "- Write a shell script that runs a command or series of commands for a fixed set of files.\n",
    "- Run a shell script from the command line.\n",
    "- Write a shell script that operates on a set of files defined by the user on the command line.\n",
    "- Create pipelines that include shell scripts you, and others, have written.\n",
    "\n",
    "Questions\n",
    "\n",
    "- How can I save and re-use commands?\n",
    "\n",
    "We are finally ready to see what makes the shell such a powerful programming environment.\n",
    "We are going to take the commands we repeat frequently and save them in files\n",
    "so that we can re-run all those operations again later by typing a single command.\n",
    "For historical reasons,\n",
    "a bunch of commands saved in a file is usually called a **shell script**,\n",
    "but make no mistake --- these are actually small programs.\n",
    "\n",
    "Not only will writing shell scripts make your work faster, but also you won't have to retype\n",
    "the same commands over and over again. It will also make it more accurate (fewer chances for\n",
    "typos) and more reproducible. If you come back to your work later (or if someone else finds\n",
    "your work and wants to build on it), you will be able to reproduce the same results simply\n",
    "by running your script, rather than having to remember or retype a long list of commands.\n",
    "\n",
    "Let's start by going back to `alkanes/` and creating a new file, `middle.sh` which will\n",
    "become our shell script:\n",
    "\n",
    "```bash\n",
    "$ cd alkanes\n",
    "$ nano middle.sh\n",
    "```\n",
    "\n",
    "The command `nano middle.sh` opens the file `middle.sh` within the text editor 'nano'\n",
    "(which runs within the shell).\n",
    "If the file does not exist, it will be created.\n",
    "We can use the text editor to directly edit the file by inserting the following line:\n",
    "\n",
    "```source\n",
    "head -n 15 octane.pdb | tail -n 5\n",
    "```\n",
    "\n",
    "This is a variation on the pipe we constructed earlier, which selects lines 11-15 of\n",
    "the file `octane.pdb`. Remember, we are *not* running it as a command just yet;\n",
    "we are only incorporating the commands in a file.\n",
    "\n",
    "Then we save the file (`Ctrl-O` in nano) and exit the text editor (`Ctrl-X` in nano).\n",
    "Check that the directory `alkanes` now contains a file called `middle.sh`.\n",
    "\n",
    "Once we have saved the file,\n",
    "we can ask the shell to execute the commands it contains.\n",
    "Our shell is called `bash`, so we run the following command:\n"
   ]
  },
  {
   "cell_type": "code",
   "execution_count": 2,
   "metadata": {
    "tags": [
     "remove-cell"
    ],
    "vscode": {
     "languageId": "shellscript"
    }
   },
   "outputs": [
    {
     "name": "stdout",
     "output_type": "stream",
     "text": [
      "cubane.pdb  methane.pdb  octane.pdb   propane.pdb\n",
      "ethane.pdb  middle.sh    pentane.pdb\n"
     ]
    }
   ],
   "source": [
    "# hidden cell: equivalent steps for the website parser to run\n",
    "cd exercise-data/alkanes\n",
    "echo \"head -n 15 octane.pdb | tail -n 5\" > middle.sh "
   ]
  },
  {
   "cell_type": "code",
   "execution_count": 3,
   "metadata": {
    "vscode": {
     "languageId": "shellscript"
    }
   },
   "outputs": [
    {
     "name": "stdout",
     "output_type": "stream",
     "text": [
      "ATOM      9  H           1      -4.502   0.681   0.785  1.00  0.00\n",
      "ATOM     10  H           1      -5.254  -0.243  -0.537  1.00  0.00\n",
      "ATOM     11  H           1      -4.357   1.252  -0.895  1.00  0.00\n",
      "ATOM     12  H           1      -3.009  -0.741  -1.467  1.00  0.00\n",
      "ATOM     13  H           1      -3.172  -1.337   0.206  1.00  0.00\n"
     ]
    }
   ],
   "source": [
    "bash middle.sh"
   ]
  },
  {
   "cell_type": "markdown",
   "metadata": {},
   "source": [
    "\n",
    "Sure enough,\n",
    "our script's output is exactly what we would get if we ran that pipeline directly.\n"
   ]
  },
  {
   "cell_type": "markdown",
   "metadata": {
    "vscode": {
     "languageId": "shellscript"
    }
   },
   "source": [
    "\n",
    "## Text vs. Whatever\n",
    "\n",
    "We usually call programs like Microsoft Word or LibreOffice Writer \"text\n",
    "editors\", but we need to be a bit more careful when it comes to\n",
    "programming. By default, Microsoft Word uses `.docx` files to store not\n",
    "only text, but also formatting information about fonts, headings, and so\n",
    "on. This extra information isn't stored as characters and doesn't mean\n",
    "anything to tools like `head`, which expects input files to contain\n",
    "nothing but the letters, digits, and punctuation on a standard computer\n",
    "keyboard. When editing programs, therefore, you must either use a plain\n",
    "text editor or be careful to save files as plain text.\n"
   ]
  },
  {
   "cell_type": "markdown",
   "metadata": {
    "jp-MarkdownHeadingCollapsed": true
   },
   "source": [
    "What if we want to select lines from an arbitrary file?\n",
    "We could edit `middle.sh` each time to change the filename,\n",
    "but that would probably take longer than typing the command out again\n",
    "in the shell and executing it with a new file name.\n",
    "Instead, let's edit `middle.sh` and make it more versatile:\n",
    "\n",
    "```bash\n",
    "$ nano middle.sh\n",
    "```\n",
    "\n",
    "Now, within \"nano\", replace the text `octane.pdb` with the special variable called `$1`:\n",
    "\n",
    "```source\n",
    "head -n 15 \"$1\" | tail -n 5\n",
    "```\n",
    "\n",
    "Inside a shell script,\n",
    "`$1` means 'the first filename (or other argument) on the command line'.\n",
    "We can now run our script like this:\n"
   ]
  },
  {
   "cell_type": "code",
   "execution_count": 4,
   "metadata": {
    "tags": [
     "remove-cell"
    ],
    "vscode": {
     "languageId": "shellscript"
    }
   },
   "outputs": [],
   "source": [
    "# hidden cell: equivalent steps for the website parser to run\n",
    "echo \"head -n 15 \\$1 | tail -n 5\" > middle.sh "
   ]
  },
  {
   "cell_type": "code",
   "execution_count": 5,
   "metadata": {},
   "outputs": [
    {
     "name": "stdout",
     "output_type": "stream",
     "text": [
      "ATOM      9  H           1      -4.502   0.681   0.785  1.00  0.00\n",
      "ATOM     10  H           1      -5.254  -0.243  -0.537  1.00  0.00\n",
      "ATOM     11  H           1      -4.357   1.252  -0.895  1.00  0.00\n",
      "ATOM     12  H           1      -3.009  -0.741  -1.467  1.00  0.00\n",
      "ATOM     13  H           1      -3.172  -1.337   0.206  1.00  0.00\n"
     ]
    }
   ],
   "source": [
    "bash middle.sh octane.pdb"
   ]
  },
  {
   "cell_type": "markdown",
   "metadata": {},
   "source": [
    "or on a different file like this:"
   ]
  },
  {
   "cell_type": "code",
   "execution_count": 6,
   "metadata": {},
   "outputs": [
    {
     "name": "stdout",
     "output_type": "stream",
     "text": [
      "ATOM      9  H           1       1.324   0.350  -1.332  1.00  0.00\n",
      "ATOM     10  H           1       1.271   1.378   0.122  1.00  0.00\n",
      "ATOM     11  H           1      -0.074  -0.384   1.288  1.00  0.00\n",
      "ATOM     12  H           1      -0.048  -1.362  -0.205  1.00  0.00\n",
      "ATOM     13  H           1      -1.183   0.500  -1.412  1.00  0.00\n"
     ]
    }
   ],
   "source": [
    "bash middle.sh pentane.pdb"
   ]
  },
  {
   "cell_type": "markdown",
   "metadata": {},
   "source": [
    "## Double-Quotes Around Arguments\n",
    "\n",
    "For the same reason that we put the loop variable inside double-quotes,\n",
    "in case the filename happens to contain any spaces,\n",
    "we surround `$1` with double-quotes.\n"
   ]
  },
  {
   "cell_type": "markdown",
   "metadata": {},
   "source": [
    "\n",
    "Currently, we need to edit `middle.sh` each time we want to adjust the range of\n",
    "lines that is returned.\n",
    "Let's fix that by configuring our script to instead use three command-line arguments.\n",
    "After the first command-line argument (`$1`), each additional argument that we\n",
    "provide will be accessible via the special variables `$1`, `$2`, `$3`,\n",
    "which refer to the first, second, third command-line arguments, respectively.\n",
    "\n",
    "Knowing this, we can use additional arguments to define the range of lines to\n",
    "be passed to `head` and `tail` respectively:\n",
    "\n",
    "```bash\n",
    "$ nano middle.sh\n",
    "```\n",
    "\n",
    "```source\n",
    "head -n \"$2\" \"$1\" | tail -n \"$3\"\n",
    "```\n",
    "\n",
    "We can now run:\n",
    "\n"
   ]
  },
  {
   "cell_type": "code",
   "execution_count": 7,
   "metadata": {
    "tags": [
     "remove-cell"
    ],
    "vscode": {
     "languageId": "shellscript"
    }
   },
   "outputs": [],
   "source": [
    "# hidden cell: equivalent steps for the website parser to run\n",
    "echo \"head -n \"\\$2\" \"\\$1\" | tail -n \"\\$3\"\" > middle.sh "
   ]
  },
  {
   "cell_type": "code",
   "execution_count": 8,
   "metadata": {
    "tags": [],
    "vscode": {
     "languageId": "shellscript"
    }
   },
   "outputs": [
    {
     "name": "stdout",
     "output_type": "stream",
     "text": [
      "ATOM      9  H           1       1.324   0.350  -1.332  1.00  0.00\n",
      "ATOM     10  H           1       1.271   1.378   0.122  1.00  0.00\n",
      "ATOM     11  H           1      -0.074  -0.384   1.288  1.00  0.00\n",
      "ATOM     12  H           1      -0.048  -1.362  -0.205  1.00  0.00\n",
      "ATOM     13  H           1      -1.183   0.500  -1.412  1.00  0.00\n"
     ]
    }
   ],
   "source": [
    "bash middle.sh pentane.pdb 15 5"
   ]
  },
  {
   "cell_type": "markdown",
   "metadata": {},
   "source": [
    "\n",
    "By changing the arguments to our command, we can change our script's\n",
    "behaviour:\n"
   ]
  },
  {
   "cell_type": "code",
   "execution_count": 9,
   "metadata": {
    "tags": [],
    "vscode": {
     "languageId": "shellscript"
    }
   },
   "outputs": [
    {
     "name": "stdout",
     "output_type": "stream",
     "text": [
      "ATOM     14  H           1      -1.259   1.420   0.112  1.00  0.00\n",
      "ATOM     15  H           1      -2.608  -0.407   1.130  1.00  0.00\n",
      "ATOM     16  H           1      -2.540  -1.303  -0.404  1.00  0.00\n",
      "ATOM     17  H           1      -3.393   0.254  -0.321  1.00  0.00\n",
      "TER      18              1\n"
     ]
    }
   ],
   "source": [
    "bash middle.sh pentane.pdb 20 5"
   ]
  },
  {
   "cell_type": "markdown",
   "metadata": {
    "jp-MarkdownHeadingCollapsed": true
   },
   "source": [
    "This works,\n",
    "but it may take the next person who reads `middle.sh` a moment to figure out what it does.\n",
    "We can improve our script by adding some **comments** at the top:\n",
    "\n",
    "```bash\n",
    "$ nano middle.sh\n",
    "```\n",
    "\n",
    "```source\n",
    "# Select lines from the middle of a file.\n",
    "# Usage: bash middle.sh filename end_line num_lines\n",
    "head -n \"$2\" \"$1\" | tail -n \"$3\"\n",
    "```\n",
    "\n",
    "A comment starts with a `#` character and runs to the end of the line.\n",
    "The computer ignores comments,\n",
    "but they're invaluable for helping people (including your future self) understand and use scripts.\n",
    "The only caveat is that each time you modify the script,\n",
    "you should check that the comment is still accurate. An explanation that sends\n",
    "the reader in the wrong direction is worse than none at all.\n",
    "\n",
    "What if we want to process many files in a single pipeline?\n",
    "For example, if we want to sort our `.pdb` files by length, we would type:\n",
    "\n",
    "```bash\n",
    "$ wc -l *.pdb | sort -n\n",
    "```\n",
    "\n",
    "because `wc -l` lists the number of lines in the files\n",
    "(recall that `wc` stands for 'word count', adding the `-l` option means 'count lines' instead)\n",
    "and `sort -n` sorts things numerically.\n",
    "We could put this in a file,\n",
    "but then it would only ever sort a list of `.pdb` files in the current directory.\n",
    "If we want to be able to get a sorted list of other kinds of files,\n",
    "we need a way to get all those names into the script.\n",
    "We can't use `$1`, `$2`, and so on\n",
    "because we don't know how many files there are.\n",
    "Instead, we use the special variable `$@`,\n",
    "which means,\n",
    "'All of the command-line arguments to the shell script'.\n",
    "We also should put `$@` inside double-quotes\n",
    "to handle the case of arguments containing spaces\n",
    "(`\"$@\"` is special syntax and is equivalent to `\"$1\"` `\"$2\"` ...).\n",
    "\n",
    "Here's an example:\n",
    "\n",
    "```bash\n",
    "$ nano sorted.sh\n",
    "```\n",
    "\n",
    "```source\n",
    "# Sort files by their length.\n",
    "# Usage: bash sorted.sh one_or_more_filenames\n",
    "wc -l \"$@\" | sort -n\n",
    "```\n"
   ]
  },
  {
   "cell_type": "code",
   "execution_count": 13,
   "metadata": {
    "tags": [
     "remove-cell"
    ],
    "vscode": {
     "languageId": "shellscript"
    }
   },
   "outputs": [],
   "source": [
    "# hidden cell: equivalent steps for the website parser to run\n",
    "echo \"wc -l \"\\$@\" | sort -n\" > sorted.sh "
   ]
  },
  {
   "cell_type": "code",
   "execution_count": 14,
   "metadata": {},
   "outputs": [
    {
     "name": "stdout",
     "output_type": "stream",
     "text": [
      "    9 methane.pdb\n",
      "   12 ethane.pdb\n",
      "   15 propane.pdb\n",
      "   20 cubane.pdb\n",
      "   21 pentane.pdb\n",
      "   30 octane.pdb\n",
      "  163 ../creatures/basilisk.dat\n",
      "  163 ../creatures/minotaur.dat\n",
      "  163 ../creatures/unicorn.dat\n",
      "  596 total\n"
     ]
    }
   ],
   "source": [
    "bash sorted.sh *.pdb ../creatures/*.dat"
   ]
  },
  {
   "cell_type": "markdown",
   "metadata": {},
   "source": [
    "## Challenge: List Unique Species\n",
    "\n",
    "Leah has several hundred data files, each of which is formatted like this:\n",
    "\n",
    "```source\n",
    "2013-11-05,deer,5\n",
    "2013-11-05,rabbit,22\n",
    "2013-11-05,raccoon,7\n",
    "2013-11-06,rabbit,19\n",
    "2013-11-06,deer,2\n",
    "2013-11-06,fox,1\n",
    "2013-11-07,rabbit,18\n",
    "2013-11-07,bear,1\n",
    "```\n",
    "\n",
    "An example of this type of file is given in\n",
    "`shell-lesson-data/exercise-data/animal-counts/animals.csv`.\n",
    "\n",
    "We can use the command `cut -d , -f 2 animals.csv | sort | uniq` to produce\n",
    "the unique species in `animals.csv`.\n",
    "In order to avoid having to type out this series of commands every time,\n",
    "a scientist may choose to write a shell script instead.\n",
    "\n",
    "Write a shell script called `species.sh` that takes any number of\n",
    "filenames as command-line arguments and uses a variation of the above command\n",
    "to print a list of the unique species appearing in each of those files separately.\n",
    "\n"
   ]
  },
  {
   "cell_type": "markdown",
   "metadata": {
    "editable": true,
    "slideshow": {
     "slide_type": ""
    },
    "tags": [
     "hide-cell"
    ]
   },
   "source": [
    "```{toggle} Solution\n",
    "\n",
    "## Solution\n",
    "\n",
    "`# Script to find unique species in csv files where species is the second data field`\n",
    "`# This script accepts any number of file names as command line arguments`\n",
    "\n",
    "`# Loop over all files`\n",
    "`for file in $@`\n",
    "`do`\n",
    "`    echo \"Unique species in $file:\"`\n",
    "`    # Extract species names`\n",
    "`    cut -d , -f 2 $file | sort | uniq`\n",
    "`done`\n",
    "```\n"
   ]
  },
  {
   "cell_type": "markdown",
   "metadata": {},
   "source": [
    "Suppose we have just run a series of commands that did something useful --- for example,\n",
    "creating a graph we'd like to use in a paper.\n",
    "We'd like to be able to re-create the graph later if we need to,\n",
    "so we want to save the commands in a file.\n",
    "Instead of typing them in again\n",
    "(and potentially getting them wrong)\n",
    "we can do this:\n",
    "\n",
    "```bash\n",
    "$ history | tail -n 5 > redo-figure-3.sh\n",
    "```\n",
    "\n",
    "The file `redo-figure-3.sh` now contains:\n",
    "\n",
    "```source\n",
    "297 bash goostats.sh NENE01729B.txt stats-NENE01729B.txt\n",
    "298 bash goodiff.sh stats-NENE01729B.txt /data/validated/01729.txt > 01729-differences.txt\n",
    "299 cut -d ',' -f 2-3 01729-differences.txt > 01729-time-series.txt\n",
    "300 ygraph --format scatter --color bw --borders none 01729-time-series.txt figure-3.png\n",
    "301 history | tail -n 5 > redo-figure-3.sh\n",
    "```\n",
    "\n",
    "After a moment's work in an editor to remove the serial numbers on the commands,\n",
    "and to remove the final line where we called the `history` command,\n",
    "we have a completely accurate record of how we created that figure.\n"
   ]
  },
  {
   "cell_type": "markdown",
   "metadata": {},
   "source": [
    "## Challenge: Why Record Commands in the History Before Running Them?\n",
    "\n",
    "If you run the command:\n",
    "\n",
    "```bash\n",
    "$ history | tail -n 5 > recent.sh\n",
    "```\n",
    "\n",
    "the last command in the file is the `history` command itself, i.e.,\n",
    "the shell has added `history` to the command log before actually\n",
    "running it. In fact, the shell *always* adds commands to the log\n",
    "before running them. Why do you think it does this?\n"
   ]
  },
  {
   "cell_type": "markdown",
   "metadata": {},
   "source": [
    "```{toggle} Solution\n",
    "\n",
    "## Solution\n",
    "\n",
    "If a command causes something to crash or hang, it might be useful\n",
    "to know what that command was, in order to investigate the problem.\n",
    "Were the command only be recorded after running it, we would not\n",
    "have a record of the last command run in the event of a crash.\n",
    "```\n"
   ]
  },
  {
   "cell_type": "markdown",
   "metadata": {},
   "source": [
    "\n",
    "In practice, most people develop shell scripts by running commands\n",
    "at the shell prompt a few times\n",
    "to make sure they're doing the right thing,\n",
    "then saving them in a file for re-use.\n",
    "This style of work allows people to recycle\n",
    "what they discover about their data and their workflow with one call to `history`\n",
    "and a bit of editing to clean up the output\n",
    "and save it as a shell script.\n"
   ]
  },
  {
   "cell_type": "markdown",
   "metadata": {},
   "source": [
    "## Nelle's Pipeline: Creating a Script\n",
    "\n",
    "Nelle's supervisor insisted that all her analytics must be reproducible.\n",
    "The easiest way to capture all the steps is in a script.\n",
    "\n",
    "First we return to Nelle's project directory:\n",
    "\n",
    "```bash\n",
    "$ cd ../../north-pacific-gyre/\n",
    "```\n",
    "\n",
    "She creates a file using `nano` ...\n",
    "\n",
    "```bash\n",
    "$ nano do-stats.sh\n",
    "```\n",
    "\n",
    "...which contains the following:\n",
    "\n",
    "```bash\n",
    "# Calculate stats for data files.\n",
    "for datafile in \"$@\"\n",
    "do\n",
    "    echo $datafile\n",
    "    bash goostats.sh $datafile stats-$datafile\n",
    "done\n",
    "```\n",
    "\n",
    "She saves this in a file called `do-stats.sh`\n",
    "so that she can now re-do the first stage of her analysis by typing:\n",
    "\n",
    "```bash\n",
    "$ bash do-stats.sh NENE*A.txt NENE*B.txt\n",
    "```\n",
    "\n",
    "She can also do this:\n",
    "\n",
    "```bash\n",
    "$ bash do-stats.sh NENE*A.txt NENE*B.txt | wc -l\n",
    "```\n",
    "\n",
    "so that the output is just the number of files processed\n",
    "rather than the names of the files that were processed.\n",
    "\n",
    "One thing to note about Nelle's script is that\n",
    "it lets the person running it decide what files to process.\n",
    "She could have written it as:\n",
    "\n",
    "```bash\n",
    "# Calculate stats for Site A and Site B data files.\n",
    "for datafile in NENE*A.txt NENE*B.txt\n",
    "do\n",
    "    echo $datafile\n",
    "    bash goostats.sh $datafile stats-$datafile\n",
    "done\n",
    "```\n",
    "\n",
    "The advantage is that this always selects the right files:\n",
    "she doesn't have to remember to exclude the 'Z' files.\n",
    "The disadvantage is that it *always* selects just those files --- she can't run it on all files\n",
    "(including the 'Z' files),\n",
    "or on the 'G' or 'H' files her colleagues in Antarctica are producing,\n",
    "without editing the script.\n",
    "If she wanted to be more adventurous,\n",
    "she could modify her script to check for command-line arguments,\n",
    "and use `NENE*A.txt NENE*B.txt` if none were provided.\n",
    "Of course, this introduces another tradeoff between flexibility and complexity.\n"
   ]
  },
  {
   "cell_type": "markdown",
   "metadata": {},
   "source": [
    "```{toggle}\n",
    "## Solution\n",
    "\n",
    "4 is the correct answer. `*` matches zero or more characters, so a file name with zero or more\n",
    "characters before a letter c and zero or more characters after the letter c will be matched.\n",
    "```\n"
   ]
  },
  {
   "cell_type": "markdown",
   "metadata": {},
   "source": [
    "## Challenge: Variables in Shell Scripts\n",
    "\n",
    "In the `alkanes` directory, imagine you have a shell script called `script.sh` containing the\n",
    "following commands:\n",
    "\n",
    "```bash\n",
    "head -n $2 $1\n",
    "tail -n $3 $1\n",
    "```\n",
    "\n",
    "While you are in the `alkanes` directory, you type the following command:\n",
    "\n",
    "```bash\n",
    "$ bash script.sh '*.pdb' 1 1\n",
    "```\n",
    "\n",
    "Which of the following outputs would you expect to see?\n",
    "\n",
    "1. All of the lines between the first and the last lines of each file ending in `.pdb`\n",
    "  in the `alkanes` directory\n",
    "2. The first and the last line of each file ending in `.pdb` in the `alkanes` directory\n",
    "3. The first and the last line of each file in the `alkanes` directory\n",
    "4. An error because of the quotes around `*.pdb`\n",
    "\n",
    "\n",
    "```{toggle} Solution\n",
    "\n",
    "## Solution\n",
    "\n",
    "The correct answer is 2.\n",
    "\n",
    "The special variables `$1`, `$2` and `$3` represent the command line arguments given to the\n",
    "script, such that the commands run are:\n",
    "\n",
    "`$ head -n 1 cubane.pdb ethane.pdb octane.pdb pentane.pdb propane.pdb`\n",
    "`$ tail -n 1 cubane.pdb ethane.pdb octane.pdb pentane.pdb propane.pdb`\n",
    "\n",
    "The shell does not expand `'*.pdb'` because it is enclosed by quote marks.\n",
    "As such, the first argument to the script is `'*.pdb'` which gets expanded within the\n",
    "script by `head` and `tail`.\n",
    "```\n"
   ]
  },
  {
   "cell_type": "markdown",
   "metadata": {},
   "source": [
    "## Challenge: Find the Longest File With a Given Extension\n",
    "\n",
    "Write a shell script called `longest.sh` that takes the name of a\n",
    "directory and a filename extension as its arguments, and prints\n",
    "out the name of the file with the most lines in that directory\n",
    "with that extension. For example:\n",
    "\n",
    "```bash\n",
    "$ bash longest.sh shell-lesson-data/exercise-data/alkanes pdb\n",
    "```\n",
    "\n",
    "would print the name of the `.pdb` file in `shell-lesson-data/exercise-data/alkanes` that has\n",
    "the most lines.\n",
    "\n",
    "Feel free to test your script on another directory e.g.\n",
    "\n",
    "```bash\n",
    "$ bash longest.sh shell-lesson-data/exercise-data/writing txt\n",
    "```\n",
    "\n",
    "```{toggle} Solution\n",
    "## Solution\n",
    "\n",
    "`# Shell script which takes two arguments:`\n",
    "`#    1. a directory name`\n",
    "`#    2. a file extension`\n",
    "`# and prints the name of the file in that directory`\n",
    "`# with the most lines which matches the file extension.`\n",
    "\n",
    "`wc -l $1/*.$2 | sort -n | tail -n 2 | head -n 1`\n",
    "\n",
    "The first part of the pipeline, `wc -l $1/*.$2 | sort -n`, counts\n",
    "the lines in each file and sorts them numerically (largest last). When\n",
    "there's more than one file, `wc` also outputs a final summary line,\n",
    "giving the total number of lines across *all* files.  We use `tail -n 2 | head -n 1` to throw away this last line.\n",
    "\n",
    "With `wc -l $1/*.$2 | sort -n | tail -n 1` we'll see the final summary\n",
    "line: we can build our pipeline up in pieces to be sure we understand\n",
    "the output.\n",
    "```\n"
   ]
  },
  {
   "cell_type": "markdown",
   "metadata": {},
   "source": [
    "## Challenge: Script Reading Comprehension\n",
    "\n",
    "For this question, consider the `shell-lesson-data/exercise-data/alkanes` directory once again.\n",
    "This contains a number of `.pdb` files in addition to any other files you\n",
    "may have created.\n",
    "Explain what each of the following three scripts would do when run as\n",
    "`bash script1.sh *.pdb`, `bash script2.sh *.pdb`, and `bash script3.sh *.pdb` respectively.\n",
    "\n",
    "```bash\n",
    "# Script 1\n",
    "echo *.*\n",
    "```\n",
    "\n",
    "```bash\n",
    "# Script 2\n",
    "for filename in $1 $2 $3\n",
    "do\n",
    "    cat $filename\n",
    "done\n",
    "```\n",
    "\n",
    "```bash\n",
    "# Script 3\n",
    "echo $@.pdb\n",
    "```\n",
    "\n",
    "```{toggle} Solution\n",
    "## Solutions\n",
    "\n",
    "In each case, the shell expands the wildcard in `*.pdb` before passing the resulting\n",
    "list of file names as arguments to the script.\n",
    "\n",
    "Script 1 would print out a list of all files containing a dot in their name.\n",
    "The arguments passed to the script are not actually used anywhere in the script.\n",
    "\n",
    "Script 2 would print the contents of the first 3 files with a `.pdb` file extension.\n",
    "`$1`, `$2`, and `$3` refer to the first, second, and third argument respectively.\n",
    "\n",
    "Script 3 would print all the arguments to the script (i.e. all the `.pdb` files),\n",
    "followed by `.pdb`.\n",
    "`$@` refers to *all* the arguments given to a shell script.\n",
    "\n",
    "`cubane.pdb ethane.pdb methane.pdb octane.pdb pentane.pdb propane.pdb.pdb`\n",
    "```\n"
   ]
  },
  {
   "cell_type": "markdown",
   "metadata": {},
   "source": [
    "\n",
    "## Challenge: Debugging Scripts\n",
    "\n",
    "Suppose you have saved the following script in a file called `do-errors.sh`\n",
    "in Nelle's `north-pacific-gyre` directory:\n",
    "\n",
    "```bash\n",
    "# Calculate stats for data files.\n",
    "for datafile in \"$@\"\n",
    "do\n",
    "    echo $datfile\n",
    "    bash goostats.sh $datafile stats-$datafile\n",
    "done\n",
    "```\n",
    "\n",
    "When you run it from the `north-pacific-gyre` directory:\n",
    "\n",
    "```bash\n",
    "$ bash do-errors.sh NENE*A.txt NENE*B.txt\n",
    "```\n",
    "\n",
    "the output is blank.\n",
    "To figure out why, re-run the script using the `-x` option:\n",
    "\n",
    "```bash\n",
    "$ bash -x do-errors.sh NENE*A.txt NENE*B.txt\n",
    "```\n",
    "\n",
    "What is the output showing you?\n",
    "Which line is responsible for the error?\n",
    "\n",
    "```{toggle} Solution\n",
    "\n",
    "## Solution\n",
    "\n",
    "The `-x` option causes `bash` to run in debug mode.\n",
    "This prints out each command as it is run, which will help you to locate errors.\n",
    "In this example, we can see that `echo` isn't printing anything. We have made a typo\n",
    "in the loop variable name, and the variable `datfile` doesn't exist, hence returning\n",
    "an empty string.\n",
    "\n",
    "```\n"
   ]
  },
  {
   "cell_type": "markdown",
   "metadata": {},
   "source": [
    "Key Points\n",
    "\n",
    "- Save commands in files (usually called shell scripts) for re-use.\n",
    "- `bash [filename]` runs the commands saved in a file.\n",
    "- `$@` refers to all of a shell script's command-line arguments.\n",
    "- `$1`, `$2`, etc., refer to the first command-line argument, the second command-line argument, etc.\n",
    "- Place variables in quotes if the values might have spaces in them.\n",
    "- Letting users decide what files to process is more flexible and more consistent with built-in Unix commands.\n"
   ]
  }
 ],
 "metadata": {
  "kernelspec": {
   "display_name": "Bash",
   "language": "bash",
   "name": "bash"
  },
  "language_info": {
   "codemirror_mode": "shell",
   "file_extension": ".sh",
   "mimetype": "text/x-sh",
   "name": "bash"
  },
  "widgets": {
   "application/vnd.jupyter.widget-state+json": {
    "state": {},
    "version_major": 2,
    "version_minor": 0
   }
  }
 },
 "nbformat": 4,
 "nbformat_minor": 4
}
