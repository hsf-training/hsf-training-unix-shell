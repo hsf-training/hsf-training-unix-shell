{
 "cells": [
  {
   "cell_type": "code",
   "execution_count": 2,
   "metadata": {
    "tags": [
     "remove-cell"
    ],
    "vscode": {
     "languageId": "shellscript"
    }
   },
   "outputs": [],
   "source": [
    "# setup steps required for our website\n",
    "cd filesystem/Users/nelle/Desktop/shell-lesson-data"
   ]
  },
  {
   "cell_type": "markdown",
   "metadata": {},
   "source": [
    "# Finding Things\n",
    "\n",
    "Objectives\n",
    "\n",
    "- Use `grep` to select lines from text files that match simple patterns.\n",
    "- Use `find` to find files and directories whose names match simple patterns.\n",
    "- Use the output of one command as the command-line argument(s) to another command.\n",
    "- Explain what is meant by 'text' and 'binary' files, and why many common tools don't handle the latter well.\n",
    "\n",
    "Questions\n",
    "- How can I find files?\n",
    "- How can I find things in files?\n"
   ]
  },
  {
   "cell_type": "markdown",
   "metadata": {},
   "source": [
    "In the same way that many of us now use 'Google' as a\n",
    "verb meaning 'to find', Unix programmers often use the\n",
    "word 'grep'.\n",
    "'grep' is a contraction of 'global/regular expression/print',\n",
    "a common sequence of operations in early Unix text editors.\n",
    "It is also the name of a very useful command-line program.\n",
    "\n",
    "`grep` finds and prints lines in files that match a pattern.\n",
    "For our examples,\n",
    "we will use a file that contains three haiku taken from a\n",
    "[1998 competition](https://web.archive.org/web/19991201042211/http://salon.com/21st/chal/1998/01/26chal.html)\n",
    "in *Salon* magazine (Credit to authors Bill Torcaso, Howard Korder, and\n",
    "Margaret Segall, respectively. See\n",
    "Haiku Error Messsages archived\n",
    "[Page 1](https://web.archive.org/web/20000310061355/http://www.salon.com/21st/chal/1998/02/10chal2.html)\n",
    "and\n",
    "[Page 2](https://web.archive.org/web/20000229135138/http://www.salon.com/21st/chal/1998/02/10chal3.html)\n",
    ".). For this set of examples,\n",
    "we're going to be working in the writing subdirectory:\n"
   ]
  },
  {
   "cell_type": "code",
   "execution_count": 3,
   "metadata": {
    "vscode": {
     "languageId": "shellscript"
    }
   },
   "outputs": [
    {
     "name": "stdout",
     "output_type": "stream",
     "text": [
      "The Tao that is seen\n",
      "Is not the true Tao, until\n",
      "You bring fresh toner.\n",
      "\n",
      "With searching comes loss\n",
      "and the presence of absence:\n",
      "\"My Thesis\" not found.\n",
      "\n",
      "Yesterday it worked\n",
      "Today it is not working\n",
      "Software is like that.\n"
     ]
    }
   ],
   "source": [
    "cd exercise-data/writing\n",
    "cat haiku.txt"
   ]
  },
  {
   "cell_type": "markdown",
   "metadata": {},
   "source": [
    "Let's find lines that contain the word 'not':"
   ]
  },
  {
   "cell_type": "code",
   "execution_count": 4,
   "metadata": {},
   "outputs": [
    {
     "name": "stdout",
     "output_type": "stream",
     "text": [
      "Is \u001b[01;31m\u001b[Knot\u001b[m\u001b[K the true Tao, until\n",
      "\"My Thesis\" \u001b[01;31m\u001b[Knot\u001b[m\u001b[K found.\n",
      "Today it is \u001b[01;31m\u001b[Knot\u001b[m\u001b[K working\n"
     ]
    }
   ],
   "source": [
    "grep not haiku.txt"
   ]
  },
  {
   "cell_type": "markdown",
   "metadata": {
    "vscode": {
     "languageId": "shellscript"
    }
   },
   "source": [
    "Here, `not` is the pattern we're searching for.\n",
    "The grep command searches through the file, looking for matches to the pattern specified.\n",
    "To use it type `grep`, then the pattern we're searching for and finally\n",
    "the name of the file (or files) we're searching in.\n",
    "\n",
    "The output is the three lines in the file that contain the letters 'not'.\n",
    "\n",
    "By default, grep searches for a pattern in a case-sensitive way.\n",
    "In addition, the search pattern we have selected does not have to form a complete word,\n",
    "as we will see in the next example.\n",
    "\n",
    "Let's search for the pattern: 'The'."
   ]
  },
  {
   "cell_type": "code",
   "execution_count": 5,
   "metadata": {},
   "outputs": [
    {
     "name": "stdout",
     "output_type": "stream",
     "text": [
      "\u001b[01;31m\u001b[KThe\u001b[m\u001b[K Tao that is seen\n",
      "\"My \u001b[01;31m\u001b[KThe\u001b[m\u001b[Ksis\" not found.\n"
     ]
    }
   ],
   "source": [
    "grep The haiku.txt"
   ]
  },
  {
   "cell_type": "markdown",
   "metadata": {
    "jp-MarkdownHeadingCollapsed": true
   },
   "source": [
    "This time, two lines that include the letters 'The' are outputted,\n",
    "one of which contained our search pattern within a larger word, 'Thesis'.\n",
    "\n",
    "To restrict matches to lines containing the word 'The' on its own,\n",
    "we can give `grep` the `-w` option.\n",
    "This will limit matches to word boundaries.\n",
    "\n",
    "Later in this lesson, we will also see how we can change the search behavior of grep\n",
    "with respect to its case sensitivity."
   ]
  },
  {
   "cell_type": "code",
   "execution_count": 6,
   "metadata": {},
   "outputs": [
    {
     "name": "stdout",
     "output_type": "stream",
     "text": [
      "\u001b[01;31m\u001b[KThe\u001b[m\u001b[K Tao that is seen\n"
     ]
    }
   ],
   "source": [
    "grep -w The haiku.txt"
   ]
  },
  {
   "cell_type": "markdown",
   "metadata": {},
   "source": [
    "Note that a 'word boundary' includes the start and end of a line, so not\n",
    "just letters surrounded by spaces.\n",
    "Sometimes we don't\n",
    "want to search for a single word, but a phrase. We can also do this with\n",
    "`grep` by putting the phrase in quotes."
   ]
  },
  {
   "cell_type": "code",
   "execution_count": 7,
   "metadata": {},
   "outputs": [
    {
     "name": "stdout",
     "output_type": "stream",
     "text": [
      "Today it \u001b[01;31m\u001b[Kis not\u001b[m\u001b[K working\n"
     ]
    }
   ],
   "source": [
    "grep -w \"is not\" haiku.txt"
   ]
  },
  {
   "cell_type": "markdown",
   "metadata": {},
   "source": [
    "We've now seen that you don't have to have quotes around single words,\n",
    "but it is useful to use quotes when searching for multiple words.\n",
    "It also helps to make it easier to distinguish between the search term or phrase\n",
    "and the file being searched.\n",
    "We will use quotes in the remaining examples.\n",
    "\n",
    "Another useful option is `-n`, which numbers the lines that match:"
   ]
  },
  {
   "cell_type": "code",
   "execution_count": 8,
   "metadata": {},
   "outputs": [
    {
     "name": "stdout",
     "output_type": "stream",
     "text": [
      "\u001b[32m\u001b[K5\u001b[m\u001b[K\u001b[36m\u001b[K:\u001b[m\u001b[KW\u001b[01;31m\u001b[Kit\u001b[m\u001b[Kh searching comes loss\n",
      "\u001b[32m\u001b[K9\u001b[m\u001b[K\u001b[36m\u001b[K:\u001b[m\u001b[KYesterday \u001b[01;31m\u001b[Kit\u001b[m\u001b[K worked\n",
      "\u001b[32m\u001b[K10\u001b[m\u001b[K\u001b[36m\u001b[K:\u001b[m\u001b[KToday \u001b[01;31m\u001b[Kit\u001b[m\u001b[K is not working\n"
     ]
    }
   ],
   "source": [
    "grep -n \"it\" haiku.txt"
   ]
  },
  {
   "cell_type": "markdown",
   "metadata": {},
   "source": [
    "\n",
    "Here, we can see that lines 5, 9, and 10 contain the letters 'it'.\n",
    "\n",
    "We can combine options (i.e. flags) as we do with other Unix commands.\n",
    "For example, let's find the lines that contain the word 'the'.\n",
    "We can combine the option `-w` to find the lines that contain the word 'the'\n",
    "and `-n` to number the lines that match:"
   ]
  },
  {
   "cell_type": "code",
   "execution_count": 9,
   "metadata": {
    "tags": [],
    "vscode": {
     "languageId": "shellscript"
    }
   },
   "outputs": [
    {
     "name": "stdout",
     "output_type": "stream",
     "text": [
      "\u001b[32m\u001b[K2\u001b[m\u001b[K\u001b[36m\u001b[K:\u001b[m\u001b[KIs not \u001b[01;31m\u001b[Kthe\u001b[m\u001b[K true Tao, until\n",
      "\u001b[32m\u001b[K6\u001b[m\u001b[K\u001b[36m\u001b[K:\u001b[m\u001b[Kand \u001b[01;31m\u001b[Kthe\u001b[m\u001b[K presence of absence:\n"
     ]
    }
   ],
   "source": [
    "grep -n -w \"the\" haiku.txt"
   ]
  },
  {
   "cell_type": "markdown",
   "metadata": {},
   "source": [
    "Now we want to use the option `-i` to make our search case-insensitive:"
   ]
  },
  {
   "cell_type": "code",
   "execution_count": 10,
   "metadata": {
    "tags": [],
    "vscode": {
     "languageId": "shellscript"
    }
   },
   "outputs": [
    {
     "name": "stdout",
     "output_type": "stream",
     "text": [
      "\u001b[32m\u001b[K1\u001b[m\u001b[K\u001b[36m\u001b[K:\u001b[m\u001b[K\u001b[01;31m\u001b[KThe\u001b[m\u001b[K Tao that is seen\n",
      "\u001b[32m\u001b[K2\u001b[m\u001b[K\u001b[36m\u001b[K:\u001b[m\u001b[KIs not \u001b[01;31m\u001b[Kthe\u001b[m\u001b[K true Tao, until\n",
      "\u001b[32m\u001b[K6\u001b[m\u001b[K\u001b[36m\u001b[K:\u001b[m\u001b[Kand \u001b[01;31m\u001b[Kthe\u001b[m\u001b[K presence of absence:\n"
     ]
    }
   ],
   "source": [
    "grep -n -w -i \"the\" haiku.txt"
   ]
  },
  {
   "cell_type": "markdown",
   "metadata": {
    "jp-MarkdownHeadingCollapsed": true
   },
   "source": [
    "Now, we want to use the option `-v` to invert our search, i.e., we want to output\n",
    "the lines that do not contain the word 'the'."
   ]
  },
  {
   "cell_type": "code",
   "execution_count": 11,
   "metadata": {},
   "outputs": [
    {
     "name": "stdout",
     "output_type": "stream",
     "text": [
      "\u001b[32m\u001b[K1\u001b[m\u001b[K\u001b[36m\u001b[K:\u001b[m\u001b[KThe Tao that is seen\n",
      "\u001b[32m\u001b[K3\u001b[m\u001b[K\u001b[36m\u001b[K:\u001b[m\u001b[KYou bring fresh toner.\n",
      "\u001b[32m\u001b[K4\u001b[m\u001b[K\u001b[36m\u001b[K:\u001b[m\u001b[K\n",
      "\u001b[32m\u001b[K5\u001b[m\u001b[K\u001b[36m\u001b[K:\u001b[m\u001b[KWith searching comes loss\n",
      "\u001b[32m\u001b[K7\u001b[m\u001b[K\u001b[36m\u001b[K:\u001b[m\u001b[K\"My Thesis\" not found.\n",
      "\u001b[32m\u001b[K8\u001b[m\u001b[K\u001b[36m\u001b[K:\u001b[m\u001b[K\n",
      "\u001b[32m\u001b[K9\u001b[m\u001b[K\u001b[36m\u001b[K:\u001b[m\u001b[KYesterday it worked\n",
      "\u001b[32m\u001b[K10\u001b[m\u001b[K\u001b[36m\u001b[K:\u001b[m\u001b[KToday it is not working\n",
      "\u001b[32m\u001b[K11\u001b[m\u001b[K\u001b[36m\u001b[K:\u001b[m\u001b[KSoftware is like that.\n"
     ]
    }
   ],
   "source": [
    "grep -n -w -v \"the\" haiku.txt"
   ]
  },
  {
   "cell_type": "markdown",
   "metadata": {},
   "source": [
    "If we use the `-r` (recursive) option,\n",
    "`grep` can search for a pattern recursively through a set of files in subdirectories.\n",
    "\n",
    "Let's search recursively for `Yesterday` in the `shell-lesson-data/exercise-data/writing` directory:"
   ]
  },
  {
   "cell_type": "code",
   "execution_count": 12,
   "metadata": {},
   "outputs": [
    {
     "name": "stdout",
     "output_type": "stream",
     "text": [
      "\u001b[35m\u001b[K./haiku.txt\u001b[m\u001b[K\u001b[36m\u001b[K:\u001b[m\u001b[K\u001b[01;31m\u001b[KYesterday\u001b[m\u001b[K it worked\n",
      "\u001b[35m\u001b[K./LittleWomen.txt\u001b[m\u001b[K\u001b[36m\u001b[K:\u001b[m\u001b[K\"\u001b[01;31m\u001b[KYesterday\u001b[m\u001b[K, when Aunt was asleep and I was trying to be as still as a\n",
      "\u001b[35m\u001b[K./LittleWomen.txt\u001b[m\u001b[K\u001b[36m\u001b[K:\u001b[m\u001b[K\u001b[01;31m\u001b[KYesterday\u001b[m\u001b[K at dinner, when an Austrian officer stared at us and then\n",
      "\u001b[35m\u001b[K./LittleWomen.txt\u001b[m\u001b[K\u001b[36m\u001b[K:\u001b[m\u001b[K\u001b[01;31m\u001b[KYesterday\u001b[m\u001b[K was a quiet day spent in teaching, sewing, and writing in my\n"
     ]
    }
   ],
   "source": [
    "grep -r Yesterday ."
   ]
  },
  {
   "cell_type": "markdown",
   "metadata": {},
   "source": [
    "`grep` has lots of other options. To find out what they are, we can type:"
   ]
  },
  {
   "cell_type": "code",
   "execution_count": 13,
   "metadata": {},
   "outputs": [
    {
     "name": "stdout",
     "output_type": "stream",
     "text": [
      "Usage: grep [OPTION]... PATTERNS [FILE]...\n",
      "Search for PATTERNS in each FILE.\n",
      "Example: grep -i 'hello world' menu.h main.c\n",
      "PATTERNS can contain multiple patterns separated by newlines.\n",
      "\n",
      "Pattern selection and interpretation:\n",
      "  -E, --extended-regexp     PATTERNS are extended regular expressions\n",
      "  -F, --fixed-strings       PATTERNS are strings\n",
      "  -G, --basic-regexp        PATTERNS are basic regular expressions\n",
      "  -P, --perl-regexp         PATTERNS are Perl regular expressions\n",
      "  -e, --regexp=PATTERNS     use PATTERNS for matching\n",
      "  -f, --file=FILE           take PATTERNS from FILE\n",
      "  -i, --ignore-case         ignore case distinctions in patterns and data\n",
      "      --no-ignore-case      do not ignore case distinctions (default)\n",
      "  -w, --word-regexp         match only whole words\n",
      "  -x, --line-regexp         match only whole lines\n",
      "  -z, --null-data           a data line ends in 0 byte, not newline\n",
      "\n",
      "Miscellaneous:\n",
      "  -s, --no-messages         suppress error messages\n",
      "  -v, --invert-match        select non-matching lines\n",
      "  -V, --version             display version information and exit\n",
      "      --help                display this help text and exit\n",
      "\n",
      "Output control:\n",
      "  -m, --max-count=NUM       stop after NUM selected lines\n",
      "  -b, --byte-offset         print the byte offset with output lines\n",
      "  -n, --line-number         print line number with output lines\n",
      "      --line-buffered       flush output on every line\n",
      "  -H, --with-filename       print file name with output lines\n",
      "  -h, --no-filename         suppress the file name prefix on output\n",
      "      --label=LABEL         use LABEL as the standard input file name prefix\n",
      "  -o, --only-matching       show only nonempty parts of lines that match\n",
      "  -q, --quiet, --silent     suppress all normal output\n",
      "      --binary-files=TYPE   assume that binary files are TYPE;\n",
      "                            TYPE is 'binary', 'text', or 'without-match'\n",
      "  -a, --text                equivalent to --binary-files=text\n",
      "  -I                        equivalent to --binary-files=without-match\n",
      "  -d, --directories=ACTION  how to handle directories;\n",
      "                            ACTION is 'read', 'recurse', or 'skip'\n",
      "  -D, --devices=ACTION      how to handle devices, FIFOs and sockets;\n",
      "                            ACTION is 'read' or 'skip'\n",
      "  -r, --recursive           like --directories=recurse\n",
      "  -R, --dereference-recursive  likewise, but follow all symlinks\n",
      "      --include=GLOB        search only files that match GLOB (a file pattern)\n",
      "      --exclude=GLOB        skip files that match GLOB\n",
      "      --exclude-from=FILE   skip files that match any file pattern from FILE\n",
      "      --exclude-dir=GLOB    skip directories that match GLOB\n",
      "  -L, --files-without-match  print only names of FILEs with no selected lines\n",
      "  -l, --files-with-matches  print only names of FILEs with selected lines\n",
      "  -c, --count               print only a count of selected lines per FILE\n",
      "  -T, --initial-tab         make tabs line up (if needed)\n",
      "  -Z, --null                print 0 byte after FILE name\n",
      "\n",
      "Context control:\n",
      "  -B, --before-context=NUM  print NUM lines of leading context\n",
      "  -A, --after-context=NUM   print NUM lines of trailing context\n",
      "  -C, --context=NUM         print NUM lines of output context\n",
      "  -NUM                      same as --context=NUM\n",
      "      --group-separator=SEP  print SEP on line between matches with context\n",
      "      --no-group-separator  do not print separator for matches with context\n",
      "      --color[=WHEN],\n",
      "      --colour[=WHEN]       use markers to highlight the matching strings;\n",
      "                            WHEN is 'always', 'never', or 'auto'\n",
      "  -U, --binary              do not strip CR characters at EOL (MSDOS/Windows)\n",
      "\n",
      "When FILE is '-', read standard input.  With no FILE, read '.' if\n",
      "recursive, '-' otherwise.  With fewer than two FILEs, assume -h.\n",
      "Exit status is 0 if any line is selected, 1 otherwise;\n",
      "if any error occurs and -q is not given, the exit status is 2.\n",
      "\n",
      "Report bugs to: bug-grep@gnu.org\n",
      "GNU grep home page: <https://www.gnu.org/software/grep/>\n",
      "General help using GNU software: <https://www.gnu.org/gethelp/>\n"
     ]
    }
   ],
   "source": [
    "grep --help"
   ]
  },
  {
   "cell_type": "markdown",
   "metadata": {},
   "source": [
    "## Challenge: Using `grep`\n",
    "\n",
    "Which command would result in the following output:\n",
    "\n",
    "```output\n",
    "and the presence of absence:\n",
    "```\n",
    "\n",
    "1. `grep \"of\" haiku.txt`\n",
    "2. `grep -E \"of\" haiku.txt`\n",
    "3. `grep -w \"of\" haiku.txt`\n",
    "4. `grep -i \"of\" haiku.txt`\n",
    "\n",
    "```{toggle} Solution\n",
    "## Solution\n",
    "\n",
    "The correct answer is 3, because the `-w` option looks only for whole-word matches.\n",
    "The other options will also match 'of' when part of another word.\n",
    "```\n"
   ]
  },
  {
   "cell_type": "markdown",
   "metadata": {},
   "source": [
    "## Wildcards\n",
    "\n",
    "`grep`'s real power doesn't come from its options, though; it comes from\n",
    "the fact that patterns can include wildcards. (The technical name for\n",
    "these is **regular expressions**, which\n",
    "is what the 're' in 'grep' stands for.) Regular expressions are both complex\n",
    "and powerful; if you want to do complex searches, please look at the lesson\n",
    "on [our website](https://librarycarpentry.org/lc-data-intro/01-regular-expressions.html). As a taster, we can\n",
    "find lines that have an 'o' in the second position like this:"
   ]
  },
  {
   "cell_type": "code",
   "execution_count": 14,
   "metadata": {},
   "outputs": [
    {
     "name": "stdout",
     "output_type": "stream",
     "text": [
      "\u001b[01;31m\u001b[KYo\u001b[m\u001b[Ku bring fresh toner.\n",
      "\u001b[01;31m\u001b[KTo\u001b[m\u001b[Kday it is not working\n",
      "\u001b[01;31m\u001b[KSo\u001b[m\u001b[Kftware is like that.\n"
     ]
    }
   ],
   "source": [
    "grep -E \"^.o\" haiku.txt"
   ]
  },
  {
   "cell_type": "markdown",
   "metadata": {},
   "source": [
    "We use the `-E` option and put the pattern in quotes to prevent the shell\n",
    "from trying to interpret it. (If the pattern contained a `*`, for\n",
    "example, the shell would try to expand it before running `grep`.) The\n",
    "`^` in the pattern anchors the match to the start of the line. The `.`\n",
    "matches a single character (just like `?` in the shell), while the `o`\n",
    "matches an actual 'o'.\n",
    "\n"
   ]
  },
  {
   "cell_type": "markdown",
   "metadata": {},
   "source": [
    "\n",
    "## Challenge: Tracking a Species\n",
    "\n",
    "Leah has several hundred\n",
    "data files saved in one directory, each of which is formatted like this:\n",
    "\n",
    "```source\n",
    "2012-11-05,deer,5\n",
    "2012-11-05,rabbit,22\n",
    "2012-11-05,raccoon,7\n",
    "2012-11-06,rabbit,19\n",
    "2012-11-06,deer,2\n",
    "2012-11-06,fox,4\n",
    "2012-11-07,rabbit,16\n",
    "2012-11-07,bear,1\n",
    "```\n",
    "\n",
    "She wants to write a shell script that takes a species as the first command-line argument\n",
    "and a directory as the second argument. The script should return one file called `<species>.txt`\n",
    "containing a list of dates and the number of that species seen on each date.\n",
    "For example using the data shown above, `rabbit.txt` would contain:\n",
    "\n",
    "```source\n",
    "2012-11-05,22\n",
    "2012-11-06,19\n",
    "2012-11-07,16\n",
    "```\n",
    "\n",
    "Below, each line contains an individual command, or pipe.  Arrange their\n",
    "sequence in one command in order to achieve Leah's goal:\n",
    "\n",
    "```bash\n",
    "cut -d : -f 2\n",
    ">\n",
    "|\n",
    "grep -w $1 -r $2\n",
    "|\n",
    "$1.txt\n",
    "cut -d , -f 1,3\n",
    "```\n",
    "\n",
    "Hint: use `man grep` to look for how to grep text recursively in a directory\n",
    "and `man cut` to select more than one field in a line.\n",
    "\n",
    "An example of such a file is provided in\n",
    "`shell-lesson-data/exercise-data/animal-counts/animals.csv`\n",
    "\n",
    "\n",
    "```{toggle} Solution\n",
    "\n",
    "## Solution\n",
    "\n",
    "`grep -w $1 -r $2 | cut -d : -f 2 | cut -d , -f 1,3 > $1.txt`\n",
    "\n",
    "Actually, you can swap the order of the two cut commands and it still works. At the\n",
    "command line, try changing the order of the cut commands, and have a look at the output\n",
    "from each step to see why this is the case.\n",
    "\n",
    "You would call the script above like this:\n",
    "\n",
    "`$ bash count-species.sh bear .`\n",
    "```\n"
   ]
  },
  {
   "cell_type": "markdown",
   "metadata": {},
   "source": [
    "## Challenge: Little Women\n",
    "\n",
    "You and your friend, having just finished reading *Little Women* by\n",
    "Louisa May Alcott, are in an argument.  Of the four sisters in the\n",
    "book, Jo, Meg, Beth, and Amy, your friend thinks that Jo was the\n",
    "most mentioned.  You, however, are certain it was Amy.  Luckily, you\n",
    "have a file `LittleWomen.txt` containing the full text of the novel\n",
    "(`shell-lesson-data/exercise-data/writing/LittleWomen.txt`).\n",
    "Using a `for` loop, how would you tabulate the number of times each\n",
    "of the four sisters is mentioned?\n",
    "\n",
    "Hint: one solution might employ\n",
    "the commands `grep` and `wc` and a `|`, while another might utilize\n",
    "`grep` options.\n",
    "There is often more than one way to solve a programming task, so a\n",
    "particular solution is usually chosen based on a combination of\n",
    "yielding the correct result, elegance, readability, and speed.\n",
    "\n",
    "\n",
    "```{toggle} Solution\n",
    "## Solutions\n",
    "\n",
    "`for sis in Jo Meg Beth Amy`\n",
    "`do`\n",
    "`    echo $sis:`\n",
    "`    grep -ow $sis LittleWomen.txt | wc -l`\n",
    "`done`\n",
    "\n",
    "Alternative, slightly inferior solution:\n",
    "\n",
    "`for sis in Jo Meg Beth Amy`\n",
    "`do`\n",
    "`    echo $sis:`\n",
    "`    grep -ocw $sis LittleWomen.txt`\n",
    "`done`\n",
    "\n",
    "This solution is inferior because `grep -c` only reports the number of lines matched.\n",
    "The total number of matches reported by this method will be lower if there is more\n",
    "than one match per line.\n",
    "\n",
    "Perceptive observers may have noticed that character names sometimes appear in all-uppercase\n",
    "in chapter titles (e.g. 'MEG GOES TO VANITY FAIR').\n",
    "If you wanted to count these as well, you could add the `-i` option for case-insensitivity\n",
    "(though in this case, it doesn't affect the answer to which sister is mentioned\n",
    "most frequently).\n",
    "\n",
    "```\n"
   ]
  },
  {
   "cell_type": "markdown",
   "metadata": {},
   "source": [
    "\n",
    "While `grep` finds lines in files,\n",
    "the `find` command finds files themselves.\n",
    "Again,\n",
    "it has a lot of options;\n",
    "to show how the simplest ones work, we'll use the `shell-lesson-data/exercise-data`\n",
    "directory tree shown below.\n",
    "\n",
    "```output\n",
    ".\n",
    "├── animal-counts/\n",
    "│   └── animals.csv\n",
    "├── creatures/\n",
    "│   ├── basilisk.dat\n",
    "│   ├── minotaur.dat\n",
    "│   └── unicorn.dat\n",
    "├── numbers.txt\n",
    "├── alkanes/\n",
    "│   ├── cubane.pdb\n",
    "│   ├── ethane.pdb\n",
    "│   ├── methane.pdb\n",
    "│   ├── octane.pdb\n",
    "│   ├── pentane.pdb\n",
    "│   └── propane.pdb\n",
    "└── writing/\n",
    "    ├── haiku.txt\n",
    "    └── LittleWomen.txt\n",
    "```\n",
    "\n",
    "The `exercise-data` directory contains one file, `numbers.txt` and four directories:\n",
    "`animal-counts`, `creatures`, `alkanes` and `writing` containing various files.\n",
    "\n",
    "For our first command,\n",
    "let's run `find .` in the `shell-lesson-data/exercise-data` folder."
   ]
  },
  {
   "cell_type": "code",
   "execution_count": 17,
   "metadata": {},
   "outputs": [
    {
     "name": "stdout",
     "output_type": "stream",
     "text": [
      ".\n",
      "./animal-counts\n",
      "./animal-counts/animals.csv\n",
      "./writing\n",
      "./writing/haiku.txt\n",
      "./writing/thesis\n",
      "./writing/thesis_backup\n",
      "./writing/thesis_backup/thesis\n",
      "./writing/LittleWomen.txt\n",
      "./alkanes\n",
      "./alkanes/octane.pdb\n",
      "./alkanes/methane.pdb\n",
      "./alkanes/pentane.pdb\n",
      "./alkanes/ethane.pdb\n",
      "./alkanes/cubane.pdb\n",
      "./alkanes/propane.pdb\n",
      "./numbers.txt\n",
      "./creatures\n",
      "./creatures/basilisk.dat\n",
      "./creatures/minotaur.dat\n",
      "./creatures/unicorn.dat\n",
      "./project\n",
      "./project/data\n",
      "./project/results\n"
     ]
    }
   ],
   "source": [
    "cd ..\n",
    "find ."
   ]
  },
  {
   "cell_type": "markdown",
   "metadata": {},
   "source": [
    "As always, the `.` on its own means the current working directory,\n",
    "which is where we want our search to start.\n",
    "`find`'s output is the names of every file **and** directory\n",
    "under the current working directory.\n",
    "This can seem useless at first but `find` has many options\n",
    "to filter the output and in this lesson we will discover some\n",
    "of them.\n",
    "\n",
    "The first option in our list is\n",
    "`-type d` that means 'things that are directories'.\n",
    "Sure enough, `find`'s output is the names of the five directories (including `.`):\n"
   ]
  },
  {
   "cell_type": "code",
   "execution_count": 18,
   "metadata": {},
   "outputs": [
    {
     "name": "stdout",
     "output_type": "stream",
     "text": [
      ".\n",
      "./animal-counts\n",
      "./writing\n",
      "./writing/thesis\n",
      "./writing/thesis_backup\n",
      "./writing/thesis_backup/thesis\n",
      "./alkanes\n",
      "./creatures\n",
      "./project\n",
      "./project/data\n",
      "./project/results\n"
     ]
    }
   ],
   "source": [
    "find . -type d"
   ]
  },
  {
   "cell_type": "markdown",
   "metadata": {},
   "source": [
    "Notice that the objects `find` finds are not listed in any particular order.\n",
    "If we change `-type d` to `-type f`,\n",
    "we get a listing of all the files instead:"
   ]
  },
  {
   "cell_type": "code",
   "execution_count": 19,
   "metadata": {},
   "outputs": [
    {
     "name": "stdout",
     "output_type": "stream",
     "text": [
      "./animal-counts/animals.csv\n",
      "./writing/haiku.txt\n",
      "./writing/LittleWomen.txt\n",
      "./alkanes/octane.pdb\n",
      "./alkanes/methane.pdb\n",
      "./alkanes/pentane.pdb\n",
      "./alkanes/ethane.pdb\n",
      "./alkanes/cubane.pdb\n",
      "./alkanes/propane.pdb\n",
      "./numbers.txt\n",
      "./creatures/basilisk.dat\n",
      "./creatures/minotaur.dat\n",
      "./creatures/unicorn.dat\n"
     ]
    }
   ],
   "source": [
    "find . -type f"
   ]
  },
  {
   "cell_type": "markdown",
   "metadata": {},
   "source": [
    "Now let's try matching by name:\n"
   ]
  },
  {
   "cell_type": "code",
   "execution_count": 20,
   "metadata": {},
   "outputs": [
    {
     "name": "stdout",
     "output_type": "stream",
     "text": [
      "./numbers.txt\n"
     ]
    }
   ],
   "source": [
    "find . -name *.txt"
   ]
  },
  {
   "cell_type": "markdown",
   "metadata": {},
   "source": [
    "We expected it to find all the text files,\n",
    "but it only prints out `./numbers.txt`.\n",
    "The problem is that the shell expands wildcard characters like `*` *before* commands run.\n",
    "Since `*.txt` in the current directory expands to `./numbers.txt`,\n",
    "the command we actually ran was: `find . -name numbers.txt`\n",
    "\n",
    "`find` did what we asked; we just asked for the wrong thing.\n",
    "\n",
    "To get what we want,\n",
    "let's do what we did with `grep`:\n",
    "put `*.txt` in quotes to prevent the shell from expanding the `*` wildcard.\n",
    "This way,\n",
    "`find` actually gets the pattern `*.txt`, not the expanded filename `numbers.txt`:"
   ]
  },
  {
   "cell_type": "code",
   "execution_count": 22,
   "metadata": {},
   "outputs": [
    {
     "name": "stdout",
     "output_type": "stream",
     "text": [
      "./writing/haiku.txt\n",
      "./writing/LittleWomen.txt\n",
      "./numbers.txt\n"
     ]
    }
   ],
   "source": [
    "find . -name \"*.txt\""
   ]
  },
  {
   "cell_type": "markdown",
   "metadata": {},
   "source": [
    "## Listing vs. Finding\n",
    "\n",
    "`ls` and `find` can be made to do similar things given the right options,\n",
    "but under normal circumstances,\n",
    "`ls` lists everything it can,\n",
    "while `find` searches for things with certain properties and shows them.\n"
   ]
  },
  {
   "cell_type": "markdown",
   "metadata": {},
   "source": [
    "As we said earlier,\n",
    "the command line's power lies in combining tools.\n",
    "We've seen how to do that with pipes;\n",
    "let's look at another technique.\n",
    "As we just saw,\n",
    "`find . -name \"*.txt\"` gives us a list of all text files in or below the current directory.\n",
    "How can we combine that with `wc -l` to count the lines in all those files?\n",
    "\n",
    "The simplest way is to put the `find` command inside `$()`:"
   ]
  },
  {
   "cell_type": "code",
   "execution_count": 24,
   "metadata": {},
   "outputs": [
    {
     "name": "stdout",
     "output_type": "stream",
     "text": [
      "     11 ./writing/haiku.txt\n",
      "  21022 ./writing/LittleWomen.txt\n",
      "      5 ./numbers.txt\n",
      "  21038 total\n"
     ]
    }
   ],
   "source": [
    "wc -l $(find . -name \"*.txt\")"
   ]
  },
  {
   "cell_type": "markdown",
   "metadata": {},
   "source": [
    "When the shell executes this command,\n",
    "the first thing it does is run whatever is inside the `$()`.\n",
    "It then replaces the `$()` expression with that command's output.\n",
    "Since the output of `find` is the three filenames `./writing/LittleWomen.txt`,\n",
    "`./writing/haiku.txt`, and `./numbers.txt`, the shell constructs the command:\n"
   ]
  },
  {
   "cell_type": "code",
   "execution_count": 25,
   "metadata": {},
   "outputs": [
    {
     "name": "stdout",
     "output_type": "stream",
     "text": [
      "  21022 ./writing/LittleWomen.txt\n",
      "     11 ./writing/haiku.txt\n",
      "      5 ./numbers.txt\n",
      "  21038 total\n"
     ]
    }
   ],
   "source": [
    "wc -l ./writing/LittleWomen.txt ./writing/haiku.txt ./numbers.txt"
   ]
  },
  {
   "cell_type": "markdown",
   "metadata": {},
   "source": [
    "which is what we wanted.\n",
    "This expansion is exactly what the shell does when it expands wildcards like `*` and `?`,\n",
    "but lets us use any command we want as our own 'wildcard'.\n",
    "\n",
    "It's very common to use `find` and `grep` together.\n",
    "The first finds files that match a pattern;\n",
    "the second looks for lines inside those files that match another pattern.\n",
    "Here, for example, we can find txt files that contain the word \"searching\"\n",
    "by looking for the string 'searching' in all the `.txt` files in the current directory:\n"
   ]
  },
  {
   "cell_type": "code",
   "execution_count": 26,
   "metadata": {},
   "outputs": [
    {
     "name": "stdout",
     "output_type": "stream",
     "text": [
      "\u001b[35m\u001b[K./writing/haiku.txt\u001b[m\u001b[K\u001b[36m\u001b[K:\u001b[m\u001b[KWith \u001b[01;31m\u001b[Ksearching\u001b[m\u001b[K comes loss\n",
      "\u001b[35m\u001b[K./writing/LittleWomen.txt\u001b[m\u001b[K\u001b[36m\u001b[K:\u001b[m\u001b[Ksitting on the top step, affected to be \u001b[01;31m\u001b[Ksearching\u001b[m\u001b[K for her book, but was\n"
     ]
    }
   ],
   "source": [
    "grep \"searching\" $(find . -name \"*.txt\")"
   ]
  },
  {
   "cell_type": "markdown",
   "metadata": {},
   "source": [
    "## Challenge: Matching and Subtracting\n",
    "\n",
    "The `-v` option to `grep` inverts pattern matching, so that only lines\n",
    "which do *not* match the pattern are printed. Given that, which of\n",
    "the following commands will find all .dat files in `creatures`\n",
    "except `unicorn.dat`?\n",
    "Once you have thought about your answer, you can test the commands in the\n",
    "`shell-lesson-data/exercise-data` directory.\n",
    "\n",
    "1. `find creatures -name \"*.dat\" | grep -v unicorn`\n",
    "2. `find creatures -name *.dat | grep -v unicorn`\n",
    "3. `grep -v \"unicorn\" $(find creatures -name \"*.dat\")`\n",
    "4. None of the above.\n",
    "\n",
    "```{toggle} Solution\n",
    "\n",
    "## Solution\n",
    "\n",
    "Option 1 is correct. Putting the match expression in quotes prevents the shell\n",
    "expanding it, so it gets passed to the `find` command.\n",
    "\n",
    "Option 2 also works in this instance because the shell tries to expand `*.dat`\n",
    "but there are no `*.dat` files in the current directory,\n",
    "so the wildcard expression gets passed to `find`.\n",
    "We first encountered this in\n",
    "[episode 3](03-create.md).\n",
    "\n",
    "Option 3 is incorrect because it searches the contents of the files for lines which\n",
    "do not match 'unicorn', rather than searching the file names.\n",
    "```\n"
   ]
  },
  {
   "cell_type": "markdown",
   "metadata": {},
   "source": [
    "## Binary Files\n",
    "\n",
    "We have focused exclusively on finding patterns in text files. What if\n",
    "your data is stored as images, in databases, or in some other format?\n",
    "\n",
    "A handful of tools extend `grep` to handle a few non text formats. But a\n",
    "more generalizable approach is to convert the data to text, or\n",
    "extract the text-like elements from the data. On the one hand, it makes simple\n",
    "things easy to do. On the other hand, complex things are usually impossible. For\n",
    "example, it's easy enough to write a program that will extract X and Y\n",
    "dimensions from image files for `grep` to play with, but how would you\n",
    "write something to find values in a spreadsheet whose cells contained\n",
    "formulas?\n",
    "\n",
    "A last option is to recognize that the shell and text processing have\n",
    "their limits, and to use another programming language.\n",
    "When the time comes to do this, don't be too hard on the shell. Many\n",
    "modern programming languages have borrowed a lot of\n",
    "ideas from it, and imitation is also the sincerest form of praise.\n"
   ]
  },
  {
   "cell_type": "markdown",
   "metadata": {},
   "source": [
    "The Unix shell is older than most of the people who use it. It has\n",
    "survived so long because it is one of the most productive programming\n",
    "environments ever created --- maybe even *the* most productive. Its syntax\n",
    "may be cryptic, but people who have mastered it can experiment with\n",
    "different commands interactively, then use what they have learned to\n",
    "automate their work. Graphical user interfaces may be easier to use at\n",
    "first, but once learned, the productivity in the shell is unbeatable.\n",
    "And as Alfred North Whitehead wrote in 1911, 'Civilization advances by\n",
    "extending the number of important operations which we can perform\n",
    "without thinking about them.'\n"
   ]
  },
  {
   "cell_type": "markdown",
   "metadata": {},
   "source": [
    "## Challenge: `find` Pipeline Reading Comprehension\n",
    "\n",
    "Write a short explanatory comment for the following shell script:\n",
    "\n",
    "```bash\n",
    "wc -l $(find . -name \"*.dat\") | sort -n\n",
    "```\n",
    "\n",
    "```{toggle} Solution\n",
    "\n",
    "## Solution\n",
    "\n",
    "1. Find all files with a `.dat` extension recursively from the current directory\n",
    "2. Count the number of lines each of these files contains\n",
    "3. Sort the output from step 2. numerically\n",
    "  \n",
    "```\n"
   ]
  },
  {
   "cell_type": "markdown",
   "metadata": {},
   "source": [
    "Key Points:\n",
    "\n",
    "- `find` finds files with specific properties that match patterns.\n",
    "- `grep` selects lines in files that match patterns.\n",
    "- `--help` is an option supported by many bash commands, and programs that can be run from within Bash, to display more information on how to use these commands or programs.\n",
    "- `man [command]` displays the manual page for a given command.\n",
    "- `$([command])` inserts a command's output in place.\n",
    "\n"
   ]
  }
 ],
 "metadata": {
  "kernelspec": {
   "display_name": "Bash",
   "language": "bash",
   "name": "bash"
  },
  "language_info": {
   "codemirror_mode": "shell",
   "file_extension": ".sh",
   "mimetype": "text/x-sh",
   "name": "bash"
  },
  "widgets": {
   "application/vnd.jupyter.widget-state+json": {
    "state": {},
    "version_major": 2,
    "version_minor": 0
   }
  }
 },
 "nbformat": 4,
 "nbformat_minor": 4
}
